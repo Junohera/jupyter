{
 "cells": [
  {
   "cell_type": "code",
   "execution_count": 157,
   "metadata": {},
   "outputs": [],
   "source": [
    "from sklearn.pipeline import Pipeline\n",
    "from sklearn.preprocessing import StandardScaler, MinMaxScaler\n",
    "from sklearn.neighbors import KNeighborsClassifier\n",
    "\n",
    "from sklearn.model_selection import cross_val_score\n",
    "\n",
    "from sklearn.datasets import load_iris, load_wine\n",
    "import pandas as pd\n",
    "import seaborn as sns"
   ]
  },
  {
   "cell_type": "code",
   "execution_count": 159,
   "metadata": {},
   "outputs": [
    {
     "name": "stdout",
     "output_type": "stream",
     "text": [
      "0.9533333333333334\n",
      "0.9533333333333334\n",
      "0.9533333333333334\n"
     ]
    }
   ],
   "source": [
    "# IRIS\n",
    "data = load_iris()\n",
    "\n",
    "a = pd.DataFrame(data.data, columns=data.feature_names)\n",
    "b = pd.DataFrame(data.target, columns=['target'])\n",
    "\n",
    "iris = pd.concat([a,b],axis=1)\n",
    "\n",
    "pipe = Pipeline([('st', StandardScaler()), ('minmax', MinMaxScaler()), ('knn', KNeighborsClassifier())])\n",
    "pipe.fit(iris.iloc[:,:-1], iris.iloc[:,-1])\n",
    "pipe.predict([[3,3,3,3]])\n",
    "\n",
    "pipe2 = Pipeline([('st', StandardScaler()), ('knn', KNeighborsClassifier())])\n",
    "pipe2.fit(iris.iloc[:,:-1], iris.iloc[:,-1])\n",
    "pipe2.predict([[3,3,3,3]])\n",
    "\n",
    "pipe3 = Pipeline([('minmax', MinMaxScaler()), ('knn', KNeighborsClassifier())])\n",
    "pipe3.fit(iris.iloc[:,:-1], iris.iloc[:,-1])\n",
    "pipe3.predict([[3,3,3,3]])\n",
    "\n",
    "print(cross_val_score(pipe, iris.iloc[:,:-1], iris.iloc[:,-1], cv=10).mean())\n",
    "print(cross_val_score(pipe2, iris.iloc[:,:-1], iris.iloc[:,-1], cv=10).mean())\n",
    "print(cross_val_score(pipe3, iris.iloc[:,:-1], iris.iloc[:,-1], cv=10).mean())"
   ]
  },
  {
   "cell_type": "code",
   "execution_count": 155,
   "metadata": {},
   "outputs": [
    {
     "name": "stdout",
     "output_type": "stream",
     "text": [
      "0.9610767113863089\n",
      "0.9610767113863089\n",
      "0.9610767113863089\n"
     ]
    }
   ],
   "source": [
    "# WINE\n",
    "wine = load_wine()\n",
    "\n",
    "a = pd.DataFrame(wine.data, columns=wine.feature_names)\n",
    "b = pd.DataFrame(wine.target, columns=['target'])\n",
    "\n",
    "wdata = pd.concat([a,b], axis=1)\n",
    "\n",
    "wpipe = Pipeline([('st', StandardScaler()), ('minmax', MinMaxScaler()), ('knn', KNeighborsClassifier())])\n",
    "wpipe2 = Pipeline([('minmax', MinMaxScaler()), ('knn', KNeighborsClassifier())])\n",
    "wpipe3 = Pipeline([('minmax', MinMaxScaler()), ('knn', KNeighborsClassifier())])\n",
    "\n",
    "wpipe.fit(wdata.iloc[:,:-1], wdata.iloc[:,-1])\n",
    "wpipe2.fit(wdata.iloc[:,:-1], wdata.iloc[:,-1])\n",
    "wpipe3.fit(wdata.iloc[:,:-1], wdata.iloc[:,-1])\n",
    "\n",
    "wpipe.predict([[3,3,3,3,3,3,3,3,3,3,3,3,3]])\n",
    "wpipe2.predict([[3,3,3,3,3,3,3,3,3,3,3,3,3]])\n",
    "wpipe3.predict([[3,3,3,3,3,3,3,3,3,3,3,3,3]])\n",
    "\n",
    "print(cross_val_score(wpipe, wdata.iloc[:,:-1], wdata.target, cv=10).mean())\n",
    "print(cross_val_score(wpipe2, wdata.iloc[:,:-1], wdata.target, cv=10).mean())\n",
    "print(cross_val_score(wpipe3, wdata.iloc[:,:-1], wdata.target, cv=10).mean())"
   ]
  }
 ],
 "metadata": {
  "kernelspec": {
   "display_name": "Python 3",
   "language": "python",
   "name": "python3"
  },
  "language_info": {
   "codemirror_mode": {
    "name": "ipython",
    "version": 3
   },
   "file_extension": ".py",
   "mimetype": "text/x-python",
   "name": "python",
   "nbconvert_exporter": "python",
   "pygments_lexer": "ipython3",
   "version": "3.7.4"
  }
 },
 "nbformat": 4,
 "nbformat_minor": 2
}
