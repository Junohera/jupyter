{
 "cells": [
  {
   "cell_type": "code",
   "execution_count": 3,
   "metadata": {},
   "outputs": [],
   "source": [
    "from __future__ import absolute_import, division, print_function, unicode_literals\n",
    "\n",
    "import matplotlib.pylab as plt\n",
    "\n",
    "import tensorflow as tf\n"
   ]
  },
  {
   "cell_type": "code",
   "execution_count": 4,
   "metadata": {},
   "outputs": [
    {
     "name": "stdout",
     "output_type": "stream",
     "text": [
      "Collecting tensorflow-hub\n",
      "\u001b[?25l  Downloading https://files.pythonhosted.org/packages/00/0e/a91780d07592b1abf9c91344ce459472cc19db3b67fdf3a61dca6ebb2f5c/tensorflow_hub-0.7.0-py2.py3-none-any.whl (89kB)\n",
      "\u001b[K     |████████████████████████████████| 92kB 259kB/s eta 0:00:011\n",
      "\u001b[?25hRequirement already satisfied: protobuf>=3.4.0 in /opt/anaconda3/lib/python3.7/site-packages (from tensorflow-hub) (3.11.1)\n",
      "Requirement already satisfied: six>=1.10.0 in /opt/anaconda3/lib/python3.7/site-packages (from tensorflow-hub) (1.12.0)\n",
      "Requirement already satisfied: numpy>=1.12.0 in /opt/anaconda3/lib/python3.7/site-packages (from tensorflow-hub) (1.17.2)\n",
      "Requirement already satisfied: setuptools in /opt/anaconda3/lib/python3.7/site-packages (from protobuf>=3.4.0->tensorflow-hub) (41.4.0)\n",
      "Installing collected packages: tensorflow-hub\n",
      "Successfully installed tensorflow-hub-0.7.0\n"
     ]
    }
   ],
   "source": [
    "!pip install tensorflow-hub # 버전차이로 명칭이 다를수도있음."
   ]
  },
  {
   "cell_type": "code",
   "execution_count": 5,
   "metadata": {},
   "outputs": [],
   "source": [
    "import tensorflow_hub as hub\n",
    "from tensorflow.keras import layers\n",
    "from tensorflow.keras.models import Sequential"
   ]
  },
  {
   "cell_type": "code",
   "execution_count": 8,
   "metadata": {},
   "outputs": [],
   "source": [
    "modelRefPath1 = \"https://tfhub.dev/google/tf2-preview/mobilenet_v2/classification/2\"\n",
    "model = Sequential([\n",
    "    hub.KerasLayer(modelRefPath1, input_shape = (224,224,3))\n",
    "])\n",
    "# feature_extractor_layer = hub.KerasLayer(imagePath,input_shape=(224,224,3))\n",
    "\n"
   ]
  },
  {
   "cell_type": "code",
   "execution_count": 9,
   "metadata": {},
   "outputs": [
    {
     "name": "stdout",
     "output_type": "stream",
     "text": [
      "Model: \"sequential\"\n",
      "_________________________________________________________________\n",
      "Layer (type)                 Output Shape              Param #   \n",
      "=================================================================\n",
      "keras_layer (KerasLayer)     (None, 1001)              3540265   \n",
      "=================================================================\n",
      "Total params: 3,540,265\n",
      "Trainable params: 0\n",
      "Non-trainable params: 3,540,265\n",
      "_________________________________________________________________\n"
     ]
    }
   ],
   "source": [
    "model.summary()"
   ]
  },
  {
   "cell_type": "code",
   "execution_count": 10,
   "metadata": {},
   "outputs": [],
   "source": [
    "classifier_url =\"https://tfhub.dev/google/tf2-preview/mobilenet_v2/classification/2\" #@param {type:\"string\"}"
   ]
  },
  {
   "cell_type": "code",
   "execution_count": 14,
   "metadata": {},
   "outputs": [],
   "source": [
    "x = tf.keras.preprocessing.image.load_img('./chu.jpg', target_size=(224,224))"
   ]
  },
  {
   "cell_type": "code",
   "execution_count": 18,
   "metadata": {},
   "outputs": [],
   "source": [
    "# x"
   ]
  },
  {
   "cell_type": "code",
   "execution_count": 21,
   "metadata": {},
   "outputs": [],
   "source": [
    "t = tf.keras.preprocessing.image.img_to_array(x)"
   ]
  },
  {
   "cell_type": "code",
   "execution_count": 23,
   "metadata": {},
   "outputs": [
    {
     "ename": "ValueError",
     "evalue": "Error when checking input: expected keras_layer_input to have 4 dimensions, but got array with shape (224, 224, 3)",
     "output_type": "error",
     "traceback": [
      "\u001b[0;31m---------------------------------------------------------------------------\u001b[0m",
      "\u001b[0;31mValueError\u001b[0m                                Traceback (most recent call last)",
      "\u001b[0;32m<ipython-input-23-ffda1f45e2bc>\u001b[0m in \u001b[0;36m<module>\u001b[0;34m\u001b[0m\n\u001b[0;32m----> 1\u001b[0;31m \u001b[0mmodel\u001b[0m\u001b[0;34m.\u001b[0m\u001b[0mpredict\u001b[0m\u001b[0;34m(\u001b[0m\u001b[0mt\u001b[0m\u001b[0;34m)\u001b[0m \u001b[0;31m# 포맷이 안맞으므로... (안되는 예시)\u001b[0m\u001b[0;34m\u001b[0m\u001b[0;34m\u001b[0m\u001b[0m\n\u001b[0m",
      "\u001b[0;32m/opt/anaconda3/lib/python3.7/site-packages/tensorflow_core/python/keras/engine/training.py\u001b[0m in \u001b[0;36mpredict\u001b[0;34m(self, x, batch_size, verbose, steps, callbacks, max_queue_size, workers, use_multiprocessing)\u001b[0m\n\u001b[1;32m    907\u001b[0m         \u001b[0mmax_queue_size\u001b[0m\u001b[0;34m=\u001b[0m\u001b[0mmax_queue_size\u001b[0m\u001b[0;34m,\u001b[0m\u001b[0;34m\u001b[0m\u001b[0;34m\u001b[0m\u001b[0m\n\u001b[1;32m    908\u001b[0m         \u001b[0mworkers\u001b[0m\u001b[0;34m=\u001b[0m\u001b[0mworkers\u001b[0m\u001b[0;34m,\u001b[0m\u001b[0;34m\u001b[0m\u001b[0;34m\u001b[0m\u001b[0m\n\u001b[0;32m--> 909\u001b[0;31m         use_multiprocessing=use_multiprocessing)\n\u001b[0m\u001b[1;32m    910\u001b[0m \u001b[0;34m\u001b[0m\u001b[0m\n\u001b[1;32m    911\u001b[0m   \u001b[0;32mdef\u001b[0m \u001b[0mreset_metrics\u001b[0m\u001b[0;34m(\u001b[0m\u001b[0mself\u001b[0m\u001b[0;34m)\u001b[0m\u001b[0;34m:\u001b[0m\u001b[0;34m\u001b[0m\u001b[0;34m\u001b[0m\u001b[0m\n",
      "\u001b[0;32m/opt/anaconda3/lib/python3.7/site-packages/tensorflow_core/python/keras/engine/training_arrays.py\u001b[0m in \u001b[0;36mpredict\u001b[0;34m(self, model, x, batch_size, verbose, steps, callbacks, **kwargs)\u001b[0m\n\u001b[1;32m    713\u001b[0m     \u001b[0mbatch_size\u001b[0m \u001b[0;34m=\u001b[0m \u001b[0mmodel\u001b[0m\u001b[0;34m.\u001b[0m\u001b[0m_validate_or_infer_batch_size\u001b[0m\u001b[0;34m(\u001b[0m\u001b[0mbatch_size\u001b[0m\u001b[0;34m,\u001b[0m \u001b[0msteps\u001b[0m\u001b[0;34m,\u001b[0m \u001b[0mx\u001b[0m\u001b[0;34m)\u001b[0m\u001b[0;34m\u001b[0m\u001b[0;34m\u001b[0m\u001b[0m\n\u001b[1;32m    714\u001b[0m     x, _, _ = model._standardize_user_data(\n\u001b[0;32m--> 715\u001b[0;31m         x, check_steps=True, steps_name='steps', steps=steps)\n\u001b[0m\u001b[1;32m    716\u001b[0m     return predict_loop(\n\u001b[1;32m    717\u001b[0m         \u001b[0mmodel\u001b[0m\u001b[0;34m,\u001b[0m\u001b[0;34m\u001b[0m\u001b[0;34m\u001b[0m\u001b[0m\n",
      "\u001b[0;32m/opt/anaconda3/lib/python3.7/site-packages/tensorflow_core/python/keras/engine/training.py\u001b[0m in \u001b[0;36m_standardize_user_data\u001b[0;34m(self, x, y, sample_weight, class_weight, batch_size, check_steps, steps_name, steps, validation_split, shuffle, extract_tensors_from_dataset)\u001b[0m\n\u001b[1;32m   2470\u001b[0m           \u001b[0mfeed_input_shapes\u001b[0m\u001b[0;34m,\u001b[0m\u001b[0;34m\u001b[0m\u001b[0;34m\u001b[0m\u001b[0m\n\u001b[1;32m   2471\u001b[0m           \u001b[0mcheck_batch_axis\u001b[0m\u001b[0;34m=\u001b[0m\u001b[0;32mFalse\u001b[0m\u001b[0;34m,\u001b[0m  \u001b[0;31m# Don't enforce the batch size.\u001b[0m\u001b[0;34m\u001b[0m\u001b[0;34m\u001b[0m\u001b[0m\n\u001b[0;32m-> 2472\u001b[0;31m           exception_prefix='input')\n\u001b[0m\u001b[1;32m   2473\u001b[0m \u001b[0;34m\u001b[0m\u001b[0m\n\u001b[1;32m   2474\u001b[0m     \u001b[0;31m# Get typespecs for the input data and sanitize it if necessary.\u001b[0m\u001b[0;34m\u001b[0m\u001b[0;34m\u001b[0m\u001b[0;34m\u001b[0m\u001b[0m\n",
      "\u001b[0;32m/opt/anaconda3/lib/python3.7/site-packages/tensorflow_core/python/keras/engine/training_utils.py\u001b[0m in \u001b[0;36mstandardize_input_data\u001b[0;34m(data, names, shapes, check_batch_axis, exception_prefix)\u001b[0m\n\u001b[1;32m    563\u001b[0m                            \u001b[0;34m': expected '\u001b[0m \u001b[0;34m+\u001b[0m \u001b[0mnames\u001b[0m\u001b[0;34m[\u001b[0m\u001b[0mi\u001b[0m\u001b[0;34m]\u001b[0m \u001b[0;34m+\u001b[0m \u001b[0;34m' to have '\u001b[0m \u001b[0;34m+\u001b[0m\u001b[0;34m\u001b[0m\u001b[0;34m\u001b[0m\u001b[0m\n\u001b[1;32m    564\u001b[0m                            \u001b[0mstr\u001b[0m\u001b[0;34m(\u001b[0m\u001b[0mlen\u001b[0m\u001b[0;34m(\u001b[0m\u001b[0mshape\u001b[0m\u001b[0;34m)\u001b[0m\u001b[0;34m)\u001b[0m \u001b[0;34m+\u001b[0m \u001b[0;34m' dimensions, but got array '\u001b[0m\u001b[0;34m\u001b[0m\u001b[0;34m\u001b[0m\u001b[0m\n\u001b[0;32m--> 565\u001b[0;31m                            'with shape ' + str(data_shape))\n\u001b[0m\u001b[1;32m    566\u001b[0m         \u001b[0;32mif\u001b[0m \u001b[0;32mnot\u001b[0m \u001b[0mcheck_batch_axis\u001b[0m\u001b[0;34m:\u001b[0m\u001b[0;34m\u001b[0m\u001b[0;34m\u001b[0m\u001b[0m\n\u001b[1;32m    567\u001b[0m           \u001b[0mdata_shape\u001b[0m \u001b[0;34m=\u001b[0m \u001b[0mdata_shape\u001b[0m\u001b[0;34m[\u001b[0m\u001b[0;36m1\u001b[0m\u001b[0;34m:\u001b[0m\u001b[0;34m]\u001b[0m\u001b[0;34m\u001b[0m\u001b[0;34m\u001b[0m\u001b[0m\n",
      "\u001b[0;31mValueError\u001b[0m: Error when checking input: expected keras_layer_input to have 4 dimensions, but got array with shape (224, 224, 3)"
     ]
    }
   ],
   "source": [
    "model.predict(t) # 포맷이 안맞으므로... (안되는 예시)"
   ]
  },
  {
   "cell_type": "code",
   "execution_count": 25,
   "metadata": {},
   "outputs": [],
   "source": [
    "x = model.predict(t[tf.newaxis]) # 차원확장을 통해 데이터포맷을 맞출경우 정상적으로 predict가능"
   ]
  },
  {
   "cell_type": "code",
   "execution_count": 26,
   "metadata": {},
   "outputs": [
    {
     "data": {
      "text/plain": [
       "801"
      ]
     },
     "execution_count": 26,
     "metadata": {},
     "output_type": "execute_result"
    }
   ],
   "source": [
    "np.argmax(x)"
   ]
  },
  {
   "cell_type": "code",
   "execution_count": 27,
   "metadata": {},
   "outputs": [
    {
     "name": "stdout",
     "output_type": "stream",
     "text": [
      "Downloading data from https://storage.googleapis.com/download.tensorflow.org/data/ImageNetLabels.txt\n",
      "16384/10484 [==============================================] - 0s 0us/step\n"
     ]
    }
   ],
   "source": [
    "labels_path = tf.keras.utils.get_file('ImageNetLabels.txt','https://storage.googleapis.com/download.tensorflow.org/data/ImageNetLabels.txt')\n",
    "imagenet_labels = np.array(open(labels_path).read().splitlines())"
   ]
  },
  {
   "cell_type": "code",
   "execution_count": 28,
   "metadata": {},
   "outputs": [
    {
     "data": {
      "text/plain": [
       "array(['background', 'tench', 'goldfish', ..., 'bolete', 'ear',\n",
       "       'toilet tissue'], dtype='<U30')"
      ]
     },
     "execution_count": 28,
     "metadata": {},
     "output_type": "execute_result"
    }
   ],
   "source": [
    "imagenet_labels"
   ]
  },
  {
   "cell_type": "code",
   "execution_count": 29,
   "metadata": {},
   "outputs": [
    {
     "data": {
      "text/plain": [
       "'slot'"
      ]
     },
     "execution_count": 29,
     "metadata": {},
     "output_type": "execute_result"
    }
   ],
   "source": [
    "imagenet_labels[801]"
   ]
  },
  {
   "cell_type": "code",
   "execution_count": 31,
   "metadata": {},
   "outputs": [],
   "source": [
    "# 새로운 이미지불러와서 학습결과 확인하기\n",
    "\n",
    "# 1. load image\n",
    "image2 = tf.keras.preprocessing.image.load_img('./chuchu.jpeg', target_size=(224,224))\n",
    "\n",
    "# 2. convert format, imageFormat to numpyFormat\n",
    "t = tf.keras.preprocessing.image.img_to_array(image2)\n",
    "trainData = np.array(t)\n",
    "\n",
    "# 3. sync Format with newAxis\n",
    "trainData = trainData[tf.newaxis]\n",
    "\n",
    "# 4 . predict\n",
    "trainResult = model.predict(trainData)"
   ]
  },
  {
   "cell_type": "code",
   "execution_count": 32,
   "metadata": {},
   "outputs": [
    {
     "data": {
      "text/plain": [
       "'soccer ball'"
      ]
     },
     "execution_count": 32,
     "metadata": {},
     "output_type": "execute_result"
    }
   ],
   "source": [
    "trainResultMax = np.argmax(trainResult)\n",
    "imagenet_labels[trainResultMax]"
   ]
  },
  {
   "cell_type": "code",
   "execution_count": null,
   "metadata": {},
   "outputs": [],
   "source": []
  },
  {
   "cell_type": "code",
   "execution_count": 33,
   "metadata": {},
   "outputs": [],
   "source": [
    "# new model\n",
    "# 성능은 좋지만, 되게 느림 ==> 모바일에 담기 힘들정도로\n",
    "modelRefPath = \"https://tfhub.dev/google/imagenet/resnet_v2_152/classification/4\"\n",
    "model2 = tf.keras.Sequential([\n",
    "    hub.KerasLayer(modelRefPath, input_shape = (224,224,3))\n",
    "])"
   ]
  },
  {
   "cell_type": "code",
   "execution_count": 34,
   "metadata": {},
   "outputs": [
    {
     "name": "stdout",
     "output_type": "stream",
     "text": [
      "Model: \"sequential_1\"\n",
      "_________________________________________________________________\n",
      "Layer (type)                 Output Shape              Param #   \n",
      "=================================================================\n",
      "keras_layer_1 (KerasLayer)   (None, 1001)              60382697  \n",
      "=================================================================\n",
      "Total params: 60,382,697\n",
      "Trainable params: 0\n",
      "Non-trainable params: 60,382,697\n",
      "_________________________________________________________________\n"
     ]
    }
   ],
   "source": [
    "model2.summary()"
   ]
  },
  {
   "cell_type": "code",
   "execution_count": 35,
   "metadata": {},
   "outputs": [
    {
     "data": {
      "text/plain": [
       "'joystick'"
      ]
     },
     "execution_count": 35,
     "metadata": {},
     "output_type": "execute_result"
    }
   ],
   "source": [
    "model2.predict(trainData)\n",
    "np.argmax(model2.predict(trainData))\n",
    "imagenet_labels[614]"
   ]
  },
  {
   "cell_type": "code",
   "execution_count": 7,
   "metadata": {},
   "outputs": [],
   "source": [
    "# 영상 분류모델\n",
    "\n",
    "from tensorflow.keras.applications import MobileNetV2"
   ]
  },
  {
   "cell_type": "code",
   "execution_count": 8,
   "metadata": {},
   "outputs": [],
   "source": [
    "# transferLearning\n",
    "\n",
    "from tensorflow.keras.applications import VGG16"
   ]
  },
  {
   "cell_type": "code",
   "execution_count": 10,
   "metadata": {},
   "outputs": [],
   "source": [
    "mobile2 = MobileNetV2(include_top=True) # include_top = True는 가져다쓰기 좋음."
   ]
  },
  {
   "cell_type": "code",
   "execution_count": 11,
   "metadata": {},
   "outputs": [],
   "source": [
    "# print(len(mobile1.layers))\n",
    "# print(len(mobile2.layers))"
   ]
  },
  {
   "cell_type": "code",
   "execution_count": 12,
   "metadata": {},
   "outputs": [],
   "source": [
    "vgg1 = VGG16(include_top=False)"
   ]
  },
  {
   "cell_type": "code",
   "execution_count": 13,
   "metadata": {},
   "outputs": [],
   "source": [
    "vgg2 = VGG16(include_top=True)"
   ]
  },
  {
   "cell_type": "code",
   "execution_count": 14,
   "metadata": {},
   "outputs": [],
   "source": [
    "# print(len(vgg1.layers))\n",
    "# print(len(vgg2.layers))"
   ]
  },
  {
   "cell_type": "code",
   "execution_count": 19,
   "metadata": {},
   "outputs": [],
   "source": [
    "# mobile1.layers # 1. 레이어 개수확인하기."
   ]
  },
  {
   "cell_type": "code",
   "execution_count": 29,
   "metadata": {},
   "outputs": [
    {
     "data": {
      "text/plain": [
       "[<tensorflow.python.keras.engine.input_layer.InputLayer at 0x7fdfb02b7bd0>,\n",
       " <tensorflow.python.keras.layers.convolutional.ZeroPadding2D at 0x7fdfb02b7cd0>,\n",
       " <tensorflow.python.keras.layers.convolutional.Conv2D at 0x7fdfb02abfd0>,\n",
       " <tensorflow.python.keras.layers.normalization.BatchNormalization at 0x7fe033992a90>,\n",
       " <tensorflow.python.keras.layers.advanced_activations.ReLU at 0x7fe0343c4310>,\n",
       " <tensorflow.python.keras.layers.convolutional.DepthwiseConv2D at 0x7fdfb023cd50>,\n",
       " <tensorflow.python.keras.layers.normalization.BatchNormalization at 0x7fdfb022b5d0>,\n",
       " <tensorflow.python.keras.layers.advanced_activations.ReLU at 0x7fdfb01be090>,\n",
       " <tensorflow.python.keras.layers.convolutional.Conv2D at 0x7fdfb01beed0>,\n",
       " <tensorflow.python.keras.layers.normalization.BatchNormalization at 0x7fdfb01e40d0>,\n",
       " <tensorflow.python.keras.layers.convolutional.Conv2D at 0x7fdfb015fd10>,\n",
       " <tensorflow.python.keras.layers.normalization.BatchNormalization at 0x7fdfb015fd90>,\n",
       " <tensorflow.python.keras.layers.advanced_activations.ReLU at 0x7fdfb00c88d0>,\n",
       " <tensorflow.python.keras.layers.convolutional.ZeroPadding2D at 0x7fdfb00de9d0>,\n",
       " <tensorflow.python.keras.layers.convolutional.DepthwiseConv2D at 0x7fdfb00de250>,\n",
       " <tensorflow.python.keras.layers.normalization.BatchNormalization at 0x7fdfb00eaad0>,\n",
       " <tensorflow.python.keras.layers.advanced_activations.ReLU at 0x7fdf997bda50>,\n",
       " <tensorflow.python.keras.layers.convolutional.Conv2D at 0x7fdf997bd750>,\n",
       " <tensorflow.python.keras.layers.normalization.BatchNormalization at 0x7fdf997a2ad0>,\n",
       " <tensorflow.python.keras.layers.convolutional.Conv2D at 0x7fdf9973ec10>,\n",
       " <tensorflow.python.keras.layers.normalization.BatchNormalization at 0x7fdf997534d0>,\n",
       " <tensorflow.python.keras.layers.advanced_activations.ReLU at 0x7fdf996c5a10>,\n",
       " <tensorflow.python.keras.layers.convolutional.DepthwiseConv2D at 0x7fdf996da750>,\n",
       " <tensorflow.python.keras.layers.normalization.BatchNormalization at 0x7fdf996da650>,\n",
       " <tensorflow.python.keras.layers.advanced_activations.ReLU at 0x7fdf99646e10>,\n",
       " <tensorflow.python.keras.layers.convolutional.Conv2D at 0x7fdf99660b90>,\n",
       " <tensorflow.python.keras.layers.normalization.BatchNormalization at 0x7fdf9966d0d0>,\n",
       " <tensorflow.python.keras.layers.merge.Add at 0x7fdf995e1f50>,\n",
       " <tensorflow.python.keras.layers.convolutional.Conv2D at 0x7fdf995f30d0>,\n",
       " <tensorflow.python.keras.layers.normalization.BatchNormalization at 0x7fdf9959e710>,\n",
       " <tensorflow.python.keras.layers.advanced_activations.ReLU at 0x7fdf99500850>,\n",
       " <tensorflow.python.keras.layers.convolutional.ZeroPadding2D at 0x7fdf99500d90>,\n",
       " <tensorflow.python.keras.layers.convolutional.DepthwiseConv2D at 0x7fdf995005d0>,\n",
       " <tensorflow.python.keras.layers.normalization.BatchNormalization at 0x7fdf99507d10>,\n",
       " <tensorflow.python.keras.layers.advanced_activations.ReLU at 0x7fdf9947fe10>,\n",
       " <tensorflow.python.keras.layers.convolutional.Conv2D at 0x7fdf99497ed0>,\n",
       " <tensorflow.python.keras.layers.normalization.BatchNormalization at 0x7fdf99497dd0>,\n",
       " <tensorflow.python.keras.layers.convolutional.Conv2D at 0x7fdf99419e90>,\n",
       " <tensorflow.python.keras.layers.normalization.BatchNormalization at 0x7fdf9942ca50>,\n",
       " <tensorflow.python.keras.layers.advanced_activations.ReLU at 0x7fdf9939ea10>,\n",
       " <tensorflow.python.keras.layers.convolutional.DepthwiseConv2D at 0x7fdf993b2510>,\n",
       " <tensorflow.python.keras.layers.normalization.BatchNormalization at 0x7fdf993b2090>,\n",
       " <tensorflow.python.keras.layers.advanced_activations.ReLU at 0x7fdf992c0110>,\n",
       " <tensorflow.python.keras.layers.convolutional.Conv2D at 0x7fdf992c0c90>,\n",
       " <tensorflow.python.keras.layers.normalization.BatchNormalization at 0x7fdf992a3c10>,\n",
       " <tensorflow.python.keras.layers.merge.Add at 0x7fdf9923ec50>,\n",
       " <tensorflow.python.keras.layers.convolutional.Conv2D at 0x7fdf99253590>,\n",
       " <tensorflow.python.keras.layers.normalization.BatchNormalization at 0x7fdf99233e90>,\n",
       " <tensorflow.python.keras.layers.advanced_activations.ReLU at 0x7fdf991e1ad0>,\n",
       " <tensorflow.python.keras.layers.convolutional.DepthwiseConv2D at 0x7fdf991e1dd0>,\n",
       " <tensorflow.python.keras.layers.normalization.BatchNormalization at 0x7fdf991e1f10>,\n",
       " <tensorflow.python.keras.layers.advanced_activations.ReLU at 0x7fdf99161950>,\n",
       " <tensorflow.python.keras.layers.convolutional.Conv2D at 0x7fdf99171690>,\n",
       " <tensorflow.python.keras.layers.normalization.BatchNormalization at 0x7fdf990e0c50>,\n",
       " <tensorflow.python.keras.layers.merge.Add at 0x7fdf990f9f50>,\n",
       " <tensorflow.python.keras.layers.convolutional.Conv2D at 0x7fdf990f9b50>,\n",
       " <tensorflow.python.keras.layers.normalization.BatchNormalization at 0x7fdf99062d50>,\n",
       " <tensorflow.python.keras.layers.advanced_activations.ReLU at 0x7fdf98ffc9d0>,\n",
       " <tensorflow.python.keras.layers.convolutional.ZeroPadding2D at 0x7fdf99013390>,\n",
       " <tensorflow.python.keras.layers.convolutional.DepthwiseConv2D at 0x7fdf990132d0>,\n",
       " <tensorflow.python.keras.layers.normalization.BatchNormalization at 0x7fdf990212d0>,\n",
       " <tensorflow.python.keras.layers.advanced_activations.ReLU at 0x7fdf98f9e910>,\n",
       " <tensorflow.python.keras.layers.convolutional.Conv2D at 0x7fdf98fa9650>,\n",
       " <tensorflow.python.keras.layers.normalization.BatchNormalization at 0x7fdf98f19050>,\n",
       " <tensorflow.python.keras.layers.convolutional.Conv2D at 0x7fdf98f38fd0>,\n",
       " <tensorflow.python.keras.layers.normalization.BatchNormalization at 0x7fdf98e9ad50>,\n",
       " <tensorflow.python.keras.layers.advanced_activations.ReLU at 0x7fdf98eb3f50>,\n",
       " <tensorflow.python.keras.layers.convolutional.DepthwiseConv2D at 0x7fdf98eb3690>,\n",
       " <tensorflow.python.keras.layers.normalization.BatchNormalization at 0x7fdf98e46110>,\n",
       " <tensorflow.python.keras.layers.advanced_activations.ReLU at 0x7fdf98dbdcd0>,\n",
       " <tensorflow.python.keras.layers.convolutional.Conv2D at 0x7fdf98dd3990>,\n",
       " <tensorflow.python.keras.layers.normalization.BatchNormalization at 0x7fdf98dd3fd0>,\n",
       " <tensorflow.python.keras.layers.merge.Add at 0x7fdf98d54e90>,\n",
       " <tensorflow.python.keras.layers.convolutional.Conv2D at 0x7fdf98d54d10>,\n",
       " <tensorflow.python.keras.layers.normalization.BatchNormalization at 0x7fdf98cc4f10>,\n",
       " <tensorflow.python.keras.layers.advanced_activations.ReLU at 0x7fdf98cddd10>,\n",
       " <tensorflow.python.keras.layers.convolutional.DepthwiseConv2D at 0x7fdf98cf4390>,\n",
       " <tensorflow.python.keras.layers.normalization.BatchNormalization at 0x7fdf98c60110>,\n",
       " <tensorflow.python.keras.layers.advanced_activations.ReLU at 0x7fdf98c75110>,\n",
       " <tensorflow.python.keras.layers.convolutional.Conv2D at 0x7fdf98c75dd0>,\n",
       " <tensorflow.python.keras.layers.normalization.BatchNormalization at 0x7fdf98b7de90>,\n",
       " <tensorflow.python.keras.layers.merge.Add at 0x7fdf98b94810>,\n",
       " <tensorflow.python.keras.layers.convolutional.Conv2D at 0x7fdf98b94690>,\n",
       " <tensorflow.python.keras.layers.normalization.BatchNormalization at 0x7fdf98afe1d0>,\n",
       " <tensorflow.python.keras.layers.advanced_activations.ReLU at 0x7fdf98b14f10>,\n",
       " <tensorflow.python.keras.layers.convolutional.DepthwiseConv2D at 0x7fdf98b14510>,\n",
       " <tensorflow.python.keras.layers.normalization.BatchNormalization at 0x7fdf98b28090>,\n",
       " <tensorflow.python.keras.layers.advanced_activations.ReLU at 0x7fdf98a99d10>,\n",
       " <tensorflow.python.keras.layers.convolutional.Conv2D at 0x7fdf98ab1a50>,\n",
       " <tensorflow.python.keras.layers.normalization.BatchNormalization at 0x7fdf98ab1fd0>,\n",
       " <tensorflow.python.keras.layers.merge.Add at 0x7fdf98a339d0>,\n",
       " <tensorflow.python.keras.layers.convolutional.Conv2D at 0x7fdf98a33690>,\n",
       " <tensorflow.python.keras.layers.normalization.BatchNormalization at 0x7fdf989a3d90>,\n",
       " <tensorflow.python.keras.layers.advanced_activations.ReLU at 0x7fdf9893ddd0>,\n",
       " <tensorflow.python.keras.layers.convolutional.DepthwiseConv2D at 0x7fdf98954450>,\n",
       " <tensorflow.python.keras.layers.normalization.BatchNormalization at 0x7fdf988bde50>,\n",
       " <tensorflow.python.keras.layers.advanced_activations.ReLU at 0x7fdf988d5610>,\n",
       " <tensorflow.python.keras.layers.convolutional.Conv2D at 0x7fdf988d58d0>,\n",
       " <tensorflow.python.keras.layers.normalization.BatchNormalization at 0x7fdf988f9610>,\n",
       " <tensorflow.python.keras.layers.convolutional.Conv2D at 0x7fdf98875dd0>,\n",
       " <tensorflow.python.keras.layers.normalization.BatchNormalization at 0x7fdf98875590>,\n",
       " <tensorflow.python.keras.layers.advanced_activations.ReLU at 0x7fdf987ded90>,\n",
       " <tensorflow.python.keras.layers.convolutional.DepthwiseConv2D at 0x7fdf987f3d50>,\n",
       " <tensorflow.python.keras.layers.normalization.BatchNormalization at 0x7fdf98761a50>,\n",
       " <tensorflow.python.keras.layers.advanced_activations.ReLU at 0x7fdf986fc910>,\n",
       " <tensorflow.python.keras.layers.convolutional.Conv2D at 0x7fdf9870eb90>,\n",
       " <tensorflow.python.keras.layers.normalization.BatchNormalization at 0x7fdf98720850>,\n",
       " <tensorflow.python.keras.layers.merge.Add at 0x7fdf9869ee90>,\n",
       " <tensorflow.python.keras.layers.convolutional.Conv2D at 0x7fdf9869eed0>,\n",
       " <tensorflow.python.keras.layers.normalization.BatchNormalization at 0x7fdf9869edd0>,\n",
       " <tensorflow.python.keras.layers.advanced_activations.ReLU at 0x7fdf98619910>,\n",
       " <tensorflow.python.keras.layers.convolutional.DepthwiseConv2D at 0x7fdf98619c10>,\n",
       " <tensorflow.python.keras.layers.normalization.BatchNormalization at 0x7fdf9862d050>,\n",
       " <tensorflow.python.keras.layers.advanced_activations.ReLU at 0x7fdf9853b150>,\n",
       " <tensorflow.python.keras.layers.convolutional.Conv2D at 0x7fdf9853b990>,\n",
       " <tensorflow.python.keras.layers.normalization.BatchNormalization at 0x7fdf9851e690>,\n",
       " <tensorflow.python.keras.layers.merge.Add at 0x7fdf98539bd0>,\n",
       " <tensorflow.python.keras.layers.convolutional.Conv2D at 0x7fdf984d0510>,\n",
       " <tensorflow.python.keras.layers.normalization.BatchNormalization at 0x7fdf984add50>,\n",
       " <tensorflow.python.keras.layers.advanced_activations.ReLU at 0x7fdf98442310>,\n",
       " <tensorflow.python.keras.layers.convolutional.ZeroPadding2D at 0x7fdf9845ea50>,\n",
       " <tensorflow.python.keras.layers.convolutional.DepthwiseConv2D at 0x7fdf9845e2d0>,\n",
       " <tensorflow.python.keras.layers.normalization.BatchNormalization at 0x7fdf98464790>,\n",
       " <tensorflow.python.keras.layers.advanced_activations.ReLU at 0x7fdf983f2e90>,\n",
       " <tensorflow.python.keras.layers.convolutional.Conv2D at 0x7fdf983f2090>,\n",
       " <tensorflow.python.keras.layers.normalization.BatchNormalization at 0x7fdf98356610>,\n",
       " <tensorflow.python.keras.layers.convolutional.Conv2D at 0x7fdf98372b50>,\n",
       " <tensorflow.python.keras.layers.normalization.BatchNormalization at 0x7fdf98332610>,\n",
       " <tensorflow.python.keras.layers.advanced_activations.ReLU at 0x7fdf9827bb10>,\n",
       " <tensorflow.python.keras.layers.convolutional.DepthwiseConv2D at 0x7fdf982917d0>,\n",
       " <tensorflow.python.keras.layers.normalization.BatchNormalization at 0x7fdf981fbe50>,\n",
       " <tensorflow.python.keras.layers.advanced_activations.ReLU at 0x7fdf9821a350>,\n",
       " <tensorflow.python.keras.layers.convolutional.Conv2D at 0x7fdf9821ad90>,\n",
       " <tensorflow.python.keras.layers.normalization.BatchNormalization at 0x7fdf98181910>,\n",
       " <tensorflow.python.keras.layers.merge.Add at 0x7fdf9819bd50>,\n",
       " <tensorflow.python.keras.layers.convolutional.Conv2D at 0x7fdf981b2790>,\n",
       " <tensorflow.python.keras.layers.normalization.BatchNormalization at 0x7fdf981b2ad0>,\n",
       " <tensorflow.python.keras.layers.advanced_activations.ReLU at 0x7fdf98134e50>,\n",
       " <tensorflow.python.keras.layers.convolutional.DepthwiseConv2D at 0x7fdf98134350>,\n",
       " <tensorflow.python.keras.layers.normalization.BatchNormalization at 0x7fdf980c3e50>,\n",
       " <tensorflow.python.keras.layers.advanced_activations.ReLU at 0x7fdf980bab50>,\n",
       " <tensorflow.python.keras.layers.convolutional.Conv2D at 0x7fdf9804fc10>,\n",
       " <tensorflow.python.keras.layers.normalization.BatchNormalization at 0x7fdf8ff80f90>,\n",
       " <tensorflow.python.keras.layers.merge.Add at 0x7fdf8ff99650>,\n",
       " <tensorflow.python.keras.layers.convolutional.Conv2D at 0x7fdf8ff99690>,\n",
       " <tensorflow.python.keras.layers.normalization.BatchNormalization at 0x7fdf8ff04810>,\n",
       " <tensorflow.python.keras.layers.advanced_activations.ReLU at 0x7fdf8ff1bb50>,\n",
       " <tensorflow.python.keras.layers.convolutional.DepthwiseConv2D at 0x7fdf8ff33850>,\n",
       " <tensorflow.python.keras.layers.normalization.BatchNormalization at 0x7fdf8fea2e90>,\n",
       " <tensorflow.python.keras.layers.advanced_activations.ReLU at 0x7fdf8fe40390>,\n",
       " <tensorflow.python.keras.layers.convolutional.Conv2D at 0x7fdf8fe40dd0>,\n",
       " <tensorflow.python.keras.layers.normalization.BatchNormalization at 0x7fdf8fe23950>,\n",
       " <tensorflow.python.keras.layers.convolutional.Conv2D at 0x7fdfb0147e50>,\n",
       " <tensorflow.python.keras.layers.normalization.BatchNormalization at 0x7fdf8fde5a10>,\n",
       " <tensorflow.python.keras.layers.advanced_activations.ReLU at 0x7fdf8fdd5c50>,\n",
       " <tensorflow.python.keras.layers.pooling.GlobalAveragePooling2D at 0x7fdf8fd43fd0>,\n",
       " <tensorflow.python.keras.layers.core.Dense at 0x7fdf8fd569d0>]"
      ]
     },
     "execution_count": 29,
     "metadata": {},
     "output_type": "execute_result"
    }
   ],
   "source": [
    "mobile2.layers"
   ]
  },
  {
   "cell_type": "code",
   "execution_count": 25,
   "metadata": {},
   "outputs": [
    {
     "ename": "ValueError",
     "evalue": "A merge layer should be called on a list of inputs.",
     "output_type": "error",
     "traceback": [
      "\u001b[0;31m---------------------------------------------------------------------------\u001b[0m",
      "\u001b[0;31mValueError\u001b[0m                                Traceback (most recent call last)",
      "\u001b[0;32m<ipython-input-25-9fb9dcceff43>\u001b[0m in \u001b[0;36m<module>\u001b[0;34m\u001b[0m\n\u001b[0;32m----> 1\u001b[0;31m \u001b[0mmo\u001b[0m \u001b[0;34m=\u001b[0m \u001b[0mSequential\u001b[0m\u001b[0;34m(\u001b[0m\u001b[0mmobile2\u001b[0m\u001b[0;34m.\u001b[0m\u001b[0mlayers\u001b[0m\u001b[0;34m[\u001b[0m\u001b[0;34m:\u001b[0m\u001b[0;34m-\u001b[0m\u001b[0;36m3\u001b[0m\u001b[0;34m]\u001b[0m\u001b[0;34m)\u001b[0m\u001b[0;34m\u001b[0m\u001b[0;34m\u001b[0m\u001b[0m\n\u001b[0m",
      "\u001b[0;32m~/anaconda3/lib/python3.7/site-packages/tensorflow_core/python/training/tracking/base.py\u001b[0m in \u001b[0;36m_method_wrapper\u001b[0;34m(self, *args, **kwargs)\u001b[0m\n\u001b[1;32m    455\u001b[0m     \u001b[0mself\u001b[0m\u001b[0;34m.\u001b[0m\u001b[0m_self_setattr_tracking\u001b[0m \u001b[0;34m=\u001b[0m \u001b[0;32mFalse\u001b[0m  \u001b[0;31m# pylint: disable=protected-access\u001b[0m\u001b[0;34m\u001b[0m\u001b[0;34m\u001b[0m\u001b[0m\n\u001b[1;32m    456\u001b[0m     \u001b[0;32mtry\u001b[0m\u001b[0;34m:\u001b[0m\u001b[0;34m\u001b[0m\u001b[0;34m\u001b[0m\u001b[0m\n\u001b[0;32m--> 457\u001b[0;31m       \u001b[0mresult\u001b[0m \u001b[0;34m=\u001b[0m \u001b[0mmethod\u001b[0m\u001b[0;34m(\u001b[0m\u001b[0mself\u001b[0m\u001b[0;34m,\u001b[0m \u001b[0;34m*\u001b[0m\u001b[0margs\u001b[0m\u001b[0;34m,\u001b[0m \u001b[0;34m**\u001b[0m\u001b[0mkwargs\u001b[0m\u001b[0;34m)\u001b[0m\u001b[0;34m\u001b[0m\u001b[0;34m\u001b[0m\u001b[0m\n\u001b[0m\u001b[1;32m    458\u001b[0m     \u001b[0;32mfinally\u001b[0m\u001b[0;34m:\u001b[0m\u001b[0;34m\u001b[0m\u001b[0;34m\u001b[0m\u001b[0m\n\u001b[1;32m    459\u001b[0m       \u001b[0mself\u001b[0m\u001b[0;34m.\u001b[0m\u001b[0m_self_setattr_tracking\u001b[0m \u001b[0;34m=\u001b[0m \u001b[0mprevious_value\u001b[0m  \u001b[0;31m# pylint: disable=protected-access\u001b[0m\u001b[0;34m\u001b[0m\u001b[0;34m\u001b[0m\u001b[0m\n",
      "\u001b[0;32m~/anaconda3/lib/python3.7/site-packages/tensorflow_core/python/keras/engine/sequential.py\u001b[0m in \u001b[0;36m__init__\u001b[0;34m(self, layers, name)\u001b[0m\n\u001b[1;32m    112\u001b[0m       \u001b[0mtf_utils\u001b[0m\u001b[0;34m.\u001b[0m\u001b[0massert_no_legacy_layers\u001b[0m\u001b[0;34m(\u001b[0m\u001b[0mlayers\u001b[0m\u001b[0;34m)\u001b[0m\u001b[0;34m\u001b[0m\u001b[0;34m\u001b[0m\u001b[0m\n\u001b[1;32m    113\u001b[0m       \u001b[0;32mfor\u001b[0m \u001b[0mlayer\u001b[0m \u001b[0;32min\u001b[0m \u001b[0mlayers\u001b[0m\u001b[0;34m:\u001b[0m\u001b[0;34m\u001b[0m\u001b[0;34m\u001b[0m\u001b[0m\n\u001b[0;32m--> 114\u001b[0;31m         \u001b[0mself\u001b[0m\u001b[0;34m.\u001b[0m\u001b[0madd\u001b[0m\u001b[0;34m(\u001b[0m\u001b[0mlayer\u001b[0m\u001b[0;34m)\u001b[0m\u001b[0;34m\u001b[0m\u001b[0;34m\u001b[0m\u001b[0m\n\u001b[0m\u001b[1;32m    115\u001b[0m \u001b[0;34m\u001b[0m\u001b[0m\n\u001b[1;32m    116\u001b[0m   \u001b[0;34m@\u001b[0m\u001b[0mproperty\u001b[0m\u001b[0;34m\u001b[0m\u001b[0;34m\u001b[0m\u001b[0m\n",
      "\u001b[0;32m~/anaconda3/lib/python3.7/site-packages/tensorflow_core/python/training/tracking/base.py\u001b[0m in \u001b[0;36m_method_wrapper\u001b[0;34m(self, *args, **kwargs)\u001b[0m\n\u001b[1;32m    455\u001b[0m     \u001b[0mself\u001b[0m\u001b[0;34m.\u001b[0m\u001b[0m_self_setattr_tracking\u001b[0m \u001b[0;34m=\u001b[0m \u001b[0;32mFalse\u001b[0m  \u001b[0;31m# pylint: disable=protected-access\u001b[0m\u001b[0;34m\u001b[0m\u001b[0;34m\u001b[0m\u001b[0m\n\u001b[1;32m    456\u001b[0m     \u001b[0;32mtry\u001b[0m\u001b[0;34m:\u001b[0m\u001b[0;34m\u001b[0m\u001b[0;34m\u001b[0m\u001b[0m\n\u001b[0;32m--> 457\u001b[0;31m       \u001b[0mresult\u001b[0m \u001b[0;34m=\u001b[0m \u001b[0mmethod\u001b[0m\u001b[0;34m(\u001b[0m\u001b[0mself\u001b[0m\u001b[0;34m,\u001b[0m \u001b[0;34m*\u001b[0m\u001b[0margs\u001b[0m\u001b[0;34m,\u001b[0m \u001b[0;34m**\u001b[0m\u001b[0mkwargs\u001b[0m\u001b[0;34m)\u001b[0m\u001b[0;34m\u001b[0m\u001b[0;34m\u001b[0m\u001b[0m\n\u001b[0m\u001b[1;32m    458\u001b[0m     \u001b[0;32mfinally\u001b[0m\u001b[0;34m:\u001b[0m\u001b[0;34m\u001b[0m\u001b[0;34m\u001b[0m\u001b[0m\n\u001b[1;32m    459\u001b[0m       \u001b[0mself\u001b[0m\u001b[0;34m.\u001b[0m\u001b[0m_self_setattr_tracking\u001b[0m \u001b[0;34m=\u001b[0m \u001b[0mprevious_value\u001b[0m  \u001b[0;31m# pylint: disable=protected-access\u001b[0m\u001b[0;34m\u001b[0m\u001b[0;34m\u001b[0m\u001b[0m\n",
      "\u001b[0;32m~/anaconda3/lib/python3.7/site-packages/tensorflow_core/python/keras/engine/sequential.py\u001b[0m in \u001b[0;36madd\u001b[0;34m(self, layer)\u001b[0m\n\u001b[1;32m    194\u001b[0m       \u001b[0;31m# If the model is being built continuously on top of an input layer:\u001b[0m\u001b[0;34m\u001b[0m\u001b[0;34m\u001b[0m\u001b[0;34m\u001b[0m\u001b[0m\n\u001b[1;32m    195\u001b[0m       \u001b[0;31m# refresh its output.\u001b[0m\u001b[0;34m\u001b[0m\u001b[0;34m\u001b[0m\u001b[0;34m\u001b[0m\u001b[0m\n\u001b[0;32m--> 196\u001b[0;31m       \u001b[0moutput_tensor\u001b[0m \u001b[0;34m=\u001b[0m \u001b[0mlayer\u001b[0m\u001b[0;34m(\u001b[0m\u001b[0mself\u001b[0m\u001b[0;34m.\u001b[0m\u001b[0moutputs\u001b[0m\u001b[0;34m[\u001b[0m\u001b[0;36m0\u001b[0m\u001b[0;34m]\u001b[0m\u001b[0;34m)\u001b[0m\u001b[0;34m\u001b[0m\u001b[0;34m\u001b[0m\u001b[0m\n\u001b[0m\u001b[1;32m    197\u001b[0m       \u001b[0;32mif\u001b[0m \u001b[0mlen\u001b[0m\u001b[0;34m(\u001b[0m\u001b[0mnest\u001b[0m\u001b[0;34m.\u001b[0m\u001b[0mflatten\u001b[0m\u001b[0;34m(\u001b[0m\u001b[0moutput_tensor\u001b[0m\u001b[0;34m)\u001b[0m\u001b[0;34m)\u001b[0m \u001b[0;34m!=\u001b[0m \u001b[0;36m1\u001b[0m\u001b[0;34m:\u001b[0m\u001b[0;34m\u001b[0m\u001b[0;34m\u001b[0m\u001b[0m\n\u001b[1;32m    198\u001b[0m         raise TypeError('All layers in a Sequential model '\n",
      "\u001b[0;32m~/anaconda3/lib/python3.7/site-packages/tensorflow_core/python/keras/engine/base_layer.py\u001b[0m in \u001b[0;36m__call__\u001b[0;34m(self, inputs, *args, **kwargs)\u001b[0m\n\u001b[1;32m    840\u001b[0m                     not base_layer_utils.is_in_eager_or_tf_function()):\n\u001b[1;32m    841\u001b[0m                   \u001b[0;32mwith\u001b[0m \u001b[0mauto_control_deps\u001b[0m\u001b[0;34m.\u001b[0m\u001b[0mAutomaticControlDependencies\u001b[0m\u001b[0;34m(\u001b[0m\u001b[0;34m)\u001b[0m \u001b[0;32mas\u001b[0m \u001b[0macd\u001b[0m\u001b[0;34m:\u001b[0m\u001b[0;34m\u001b[0m\u001b[0;34m\u001b[0m\u001b[0m\n\u001b[0;32m--> 842\u001b[0;31m                     \u001b[0moutputs\u001b[0m \u001b[0;34m=\u001b[0m \u001b[0mcall_fn\u001b[0m\u001b[0;34m(\u001b[0m\u001b[0mcast_inputs\u001b[0m\u001b[0;34m,\u001b[0m \u001b[0;34m*\u001b[0m\u001b[0margs\u001b[0m\u001b[0;34m,\u001b[0m \u001b[0;34m**\u001b[0m\u001b[0mkwargs\u001b[0m\u001b[0;34m)\u001b[0m\u001b[0;34m\u001b[0m\u001b[0;34m\u001b[0m\u001b[0m\n\u001b[0m\u001b[1;32m    843\u001b[0m                     \u001b[0;31m# Wrap Tensors in `outputs` in `tf.identity` to avoid\u001b[0m\u001b[0;34m\u001b[0m\u001b[0;34m\u001b[0m\u001b[0;34m\u001b[0m\u001b[0m\n\u001b[1;32m    844\u001b[0m                     \u001b[0;31m# circular dependencies.\u001b[0m\u001b[0;34m\u001b[0m\u001b[0;34m\u001b[0m\u001b[0;34m\u001b[0m\u001b[0m\n",
      "\u001b[0;32m~/anaconda3/lib/python3.7/site-packages/tensorflow_core/python/keras/layers/merge.py\u001b[0m in \u001b[0;36mcall\u001b[0;34m(self, inputs)\u001b[0m\n\u001b[1;32m    119\u001b[0m   \u001b[0;32mdef\u001b[0m \u001b[0mcall\u001b[0m\u001b[0;34m(\u001b[0m\u001b[0mself\u001b[0m\u001b[0;34m,\u001b[0m \u001b[0minputs\u001b[0m\u001b[0;34m)\u001b[0m\u001b[0;34m:\u001b[0m\u001b[0;34m\u001b[0m\u001b[0;34m\u001b[0m\u001b[0m\n\u001b[1;32m    120\u001b[0m     \u001b[0;32mif\u001b[0m \u001b[0;32mnot\u001b[0m \u001b[0misinstance\u001b[0m\u001b[0;34m(\u001b[0m\u001b[0minputs\u001b[0m\u001b[0;34m,\u001b[0m \u001b[0mlist\u001b[0m\u001b[0;34m)\u001b[0m\u001b[0;34m:\u001b[0m\u001b[0;34m\u001b[0m\u001b[0;34m\u001b[0m\u001b[0m\n\u001b[0;32m--> 121\u001b[0;31m       \u001b[0;32mraise\u001b[0m \u001b[0mValueError\u001b[0m\u001b[0;34m(\u001b[0m\u001b[0;34m'A merge layer should be called on a list of inputs.'\u001b[0m\u001b[0;34m)\u001b[0m\u001b[0;34m\u001b[0m\u001b[0;34m\u001b[0m\u001b[0m\n\u001b[0m\u001b[1;32m    122\u001b[0m     \u001b[0;32mif\u001b[0m \u001b[0mself\u001b[0m\u001b[0;34m.\u001b[0m\u001b[0m_reshape_required\u001b[0m\u001b[0;34m:\u001b[0m\u001b[0;34m\u001b[0m\u001b[0;34m\u001b[0m\u001b[0m\n\u001b[1;32m    123\u001b[0m       \u001b[0mreshaped_inputs\u001b[0m \u001b[0;34m=\u001b[0m \u001b[0;34m[\u001b[0m\u001b[0;34m]\u001b[0m\u001b[0;34m\u001b[0m\u001b[0;34m\u001b[0m\u001b[0m\n",
      "\u001b[0;31mValueError\u001b[0m: A merge layer should be called on a list of inputs."
     ]
    }
   ],
   "source": [
    "mo = Sequential(mobile2.layers[:-3]) # 제거할거 제거하고 "
   ]
  }
 ],
 "metadata": {
  "kernelspec": {
   "display_name": "Python 3",
   "language": "python",
   "name": "python3"
  },
  "language_info": {
   "codemirror_mode": {
    "name": "ipython",
    "version": 3
   },
   "file_extension": ".py",
   "mimetype": "text/x-python",
   "name": "python",
   "nbconvert_exporter": "python",
   "pygments_lexer": "ipython3",
   "version": "3.7.4"
  }
 },
 "nbformat": 4,
 "nbformat_minor": 2
}
