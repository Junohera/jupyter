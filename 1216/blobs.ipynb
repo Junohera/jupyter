{
 "cells": [
  {
   "cell_type": "code",
   "execution_count": 22,
   "metadata": {},
   "outputs": [],
   "source": [
    "from sklearn.datasets import make_blobs\n",
    "import matplotlib.pyplot as plt\n",
    "import pandas as pd"
   ]
  },
  {
   "cell_type": "code",
   "execution_count": 103,
   "metadata": {},
   "outputs": [],
   "source": [
    "data = make_blobs(centers=2)\n",
    "\n",
    "blob = pd.DataFrame(data[0], columns=['x','y'])\n",
    "blob_t = pd.DataFrame(data[1], columns=['target'])\n",
    "\n",
    "blobs = pd.concat([blob, blob_t], axis=1)\n",
    "\n",
    "\n",
    "blobs\n",
    "\n",
    "# blobs.target.value_counts()\n",
    "\n",
    "c0 = blobs[blobs.target==0]\n",
    "c1 = blobs[blobs.target==1]"
   ]
  },
  {
   "cell_type": "code",
   "execution_count": 164,
   "metadata": {},
   "outputs": [
    {
     "data": {
      "text/html": [
       "<div>\n",
       "<style scoped>\n",
       "    .dataframe tbody tr th:only-of-type {\n",
       "        vertical-align: middle;\n",
       "    }\n",
       "\n",
       "    .dataframe tbody tr th {\n",
       "        vertical-align: top;\n",
       "    }\n",
       "\n",
       "    .dataframe thead th {\n",
       "        text-align: right;\n",
       "    }\n",
       "</style>\n",
       "<table border=\"1\" class=\"dataframe\">\n",
       "  <thead>\n",
       "    <tr style=\"text-align: right;\">\n",
       "      <th></th>\n",
       "      <th>x</th>\n",
       "      <th>y</th>\n",
       "      <th>target</th>\n",
       "    </tr>\n",
       "  </thead>\n",
       "  <tbody>\n",
       "    <tr>\n",
       "      <td>0</td>\n",
       "      <td>5.886807</td>\n",
       "      <td>3.095753</td>\n",
       "      <td>1</td>\n",
       "    </tr>\n",
       "    <tr>\n",
       "      <td>1</td>\n",
       "      <td>5.082035</td>\n",
       "      <td>0.493262</td>\n",
       "      <td>1</td>\n",
       "    </tr>\n",
       "    <tr>\n",
       "      <td>2</td>\n",
       "      <td>6.254274</td>\n",
       "      <td>-3.688371</td>\n",
       "      <td>0</td>\n",
       "    </tr>\n",
       "    <tr>\n",
       "      <td>3</td>\n",
       "      <td>5.136182</td>\n",
       "      <td>2.051175</td>\n",
       "      <td>1</td>\n",
       "    </tr>\n",
       "    <tr>\n",
       "      <td>4</td>\n",
       "      <td>3.991233</td>\n",
       "      <td>0.629300</td>\n",
       "      <td>1</td>\n",
       "    </tr>\n",
       "    <tr>\n",
       "      <td>...</td>\n",
       "      <td>...</td>\n",
       "      <td>...</td>\n",
       "      <td>...</td>\n",
       "    </tr>\n",
       "    <tr>\n",
       "      <td>95</td>\n",
       "      <td>7.159755</td>\n",
       "      <td>0.986869</td>\n",
       "      <td>0</td>\n",
       "    </tr>\n",
       "    <tr>\n",
       "      <td>96</td>\n",
       "      <td>8.033889</td>\n",
       "      <td>0.408601</td>\n",
       "      <td>0</td>\n",
       "    </tr>\n",
       "    <tr>\n",
       "      <td>97</td>\n",
       "      <td>3.431194</td>\n",
       "      <td>1.257190</td>\n",
       "      <td>1</td>\n",
       "    </tr>\n",
       "    <tr>\n",
       "      <td>98</td>\n",
       "      <td>6.878183</td>\n",
       "      <td>-1.102707</td>\n",
       "      <td>0</td>\n",
       "    </tr>\n",
       "    <tr>\n",
       "      <td>99</td>\n",
       "      <td>5.884664</td>\n",
       "      <td>0.161429</td>\n",
       "      <td>0</td>\n",
       "    </tr>\n",
       "  </tbody>\n",
       "</table>\n",
       "<p>100 rows × 3 columns</p>\n",
       "</div>"
      ],
      "text/plain": [
       "           x         y  target\n",
       "0   5.886807  3.095753       1\n",
       "1   5.082035  0.493262       1\n",
       "2   6.254274 -3.688371       0\n",
       "3   5.136182  2.051175       1\n",
       "4   3.991233  0.629300       1\n",
       "..       ...       ...     ...\n",
       "95  7.159755  0.986869       0\n",
       "96  8.033889  0.408601       0\n",
       "97  3.431194  1.257190       1\n",
       "98  6.878183 -1.102707       0\n",
       "99  5.884664  0.161429       0\n",
       "\n",
       "[100 rows x 3 columns]"
      ]
     },
     "execution_count": 164,
     "metadata": {},
     "output_type": "execute_result"
    }
   ],
   "source": [
    "blobs"
   ]
  },
  {
   "cell_type": "code",
   "execution_count": 104,
   "metadata": {},
   "outputs": [
    {
     "data": {
      "text/plain": [
       "<matplotlib.collections.PathCollection at 0x7f5ad411bed0>"
      ]
     },
     "execution_count": 104,
     "metadata": {},
     "output_type": "execute_result"
    },
    {
     "data": {
      "image/png": "[encoded data removed]",
      "text/plain": [
       "<Figure size 432x288 with 1 Axes>"
      ]
     },
     "metadata": {
      "needs_background": "light"
     },
     "output_type": "display_data"
    }
   ],
   "source": [
    "plt.scatter(c0.x, c0.y)\n",
    "plt.scatter(c1.x, c1.y)"
   ]
  },
  {
   "cell_type": "code",
   "execution_count": 105,
   "metadata": {},
   "outputs": [],
   "source": [
    "# c0.shape"
   ]
  },
  {
   "cell_type": "code",
   "execution_count": 106,
   "metadata": {},
   "outputs": [],
   "source": [
    "# c1.shape"
   ]
  },
  {
   "cell_type": "code",
   "execution_count": 167,
   "metadata": {},
   "outputs": [],
   "source": [
    "# 값이 너무 클경우 표준편차 기법을사용하여 성능을 높인다.\n",
    "\n",
    "from sklearn.preprocessing import MinMaxScaler\n",
    "\n",
    "scaler = MinMaxScaler()\n",
    "\n",
    " # 전처리 테스트\n",
    "mm = MinMaxScaler()\n",
    "#     ss = StandardScaler()\n",
    "blobs = mm.fit_transform(blobs)\n",
    "#     data_sc = ss.fit_transform(data.data)\n",
    "\n",
    "# blobs[['x','y']].values\n",
    "# blobs[['target']].values"
   ]
  },
  {
   "cell_type": "code",
   "execution_count": 173,
   "metadata": {},
   "outputs": [
    {
     "data": {
      "text/plain": [
       "array([0.44029973, 0.31433815, 0.49781507, 0.32281323, 0.14360779,\n",
       "       1.        , 0.40671188, 0.5663634 , 0.49461615, 0.59836351,\n",
       "       0.57107079, 0.37485564, 0.41548827, 0.15225783, 0.54270763,\n",
       "       0.61740316, 0.41057885, 0.5924556 , 0.73706423, 0.        ,\n",
       "       0.54098488, 0.36784976, 0.08100106, 0.33811532, 0.43617341,\n",
       "       0.0426292 , 0.52861098, 0.28594039, 0.37296194, 0.6038016 ,\n",
       "       0.36232004, 0.16425447, 0.22646276, 0.25978648, 0.71370696,\n",
       "       0.30470056, 0.31765345, 0.32115869, 0.2204471 , 0.666985  ,\n",
       "       0.74766147, 0.46096637, 0.25123096, 0.63601922, 0.42874711,\n",
       "       0.45222339, 0.26008475, 0.3254971 , 0.42383574, 0.6787597 ,\n",
       "       0.47671268, 0.53394516, 0.50354893, 0.21210619, 0.64638669,\n",
       "       0.49717588, 0.51704716, 0.37559842, 0.51740816, 0.39626224,\n",
       "       0.5066928 , 0.14983792, 0.6621625 , 0.28500054, 0.36643127,\n",
       "       0.35828636, 0.49546776, 0.59664537, 0.19904884, 0.20284994,\n",
       "       0.42769418, 0.16805707, 0.1331229 , 0.63779154, 0.68680584,\n",
       "       0.54504815, 0.50543103, 0.37777288, 0.56496429, 0.68405562,\n",
       "       0.17844006, 0.20849562, 0.32356485, 0.6915814 , 0.71398851,\n",
       "       0.45944125, 0.39501788, 0.57379946, 0.19377302, 0.38808125,\n",
       "       0.62136205, 0.28240236, 0.67114545, 0.51365109, 0.10596932,\n",
       "       0.63953931, 0.77635725, 0.05595141, 0.59546814, 0.43996424])"
      ]
     },
     "execution_count": 173,
     "metadata": {},
     "output_type": "execute_result"
    }
   ],
   "source": []
  },
  {
   "cell_type": "code",
   "execution_count": 168,
   "metadata": {},
   "outputs": [
    {
     "name": "stderr",
     "output_type": "stream",
     "text": [
      "/home/ai42/anaconda3/lib/python3.7/site-packages/ipykernel_launcher.py:21: FutureWarning: Using a non-tuple sequence for multidimensional indexing is deprecated; use `arr[tuple(seq)]` instead of `arr[seq]`. In the future this will be interpreted as an array index, `arr[np.array(seq)]`, which will result either in an error or a different result.\n"
     ]
    },
    {
     "ename": "IndexError",
     "evalue": "only integers, slices (`:`), ellipsis (`...`), numpy.newaxis (`None`) and integer or boolean arrays are valid indices",
     "output_type": "error",
     "traceback": [
      "\u001b[0;31m---------------------------------------------------------------------------\u001b[0m",
      "\u001b[0;31mIndexError\u001b[0m                                Traceback (most recent call last)",
      "\u001b[0;32m<ipython-input-168-1156dfd57b63>\u001b[0m in \u001b[0;36m<module>\u001b[0;34m\u001b[0m\n\u001b[1;32m     19\u001b[0m \u001b[0;31m# blobs[['target']].values\u001b[0m\u001b[0;34m\u001b[0m\u001b[0;34m\u001b[0m\u001b[0;34m\u001b[0m\u001b[0m\n\u001b[1;32m     20\u001b[0m \u001b[0;34m\u001b[0m\u001b[0m\n\u001b[0;32m---> 21\u001b[0;31m \u001b[0mmodel\u001b[0m\u001b[0;34m.\u001b[0m\u001b[0mfit\u001b[0m\u001b[0;34m(\u001b[0m\u001b[0mblobs\u001b[0m\u001b[0;34m[\u001b[0m\u001b[0;34m[\u001b[0m\u001b[0;34m'x'\u001b[0m\u001b[0;34m,\u001b[0m\u001b[0;34m'y'\u001b[0m\u001b[0;34m]\u001b[0m\u001b[0;34m]\u001b[0m\u001b[0;34m.\u001b[0m\u001b[0mvalues\u001b[0m\u001b[0;34m,\u001b[0m \u001b[0mblobs\u001b[0m\u001b[0;34m[\u001b[0m\u001b[0;34m[\u001b[0m\u001b[0;34m'target'\u001b[0m\u001b[0;34m]\u001b[0m\u001b[0;34m]\u001b[0m\u001b[0;34m.\u001b[0m\u001b[0mvalues\u001b[0m\u001b[0;34m,\u001b[0m \u001b[0mepochs\u001b[0m\u001b[0;34m=\u001b[0m\u001b[0;36m5\u001b[0m\u001b[0;34m)\u001b[0m\u001b[0;34m\u001b[0m\u001b[0;34m\u001b[0m\u001b[0m\n\u001b[0m",
      "\u001b[0;31mIndexError\u001b[0m: only integers, slices (`:`), ellipsis (`...`), numpy.newaxis (`None`) and integer or boolean arrays are valid indices"
     ]
    }
   ],
   "source": [
    "from tensorflow.keras.models import Sequential\n",
    "from tensorflow.keras.layers import Dense\n",
    "\n",
    "model = Sequential()\n",
    "\n",
    "layer1 = Dense(10, input_shape=(2,), activation='relu')\n",
    "# layer2 = Dense(1, activation='sigmoid') # 1 => sigmoid\n",
    "layer2 = Dense(2, activation='softmax') # 2 => softmax\n",
    "\n",
    "model.add(layer1)\n",
    "model.add(layer2)\n",
    "\n",
    "# model.summary()\n",
    "\n",
    "# model.compile(optimizer='adam', metrics=['accuracy'], loss='binary_crossentropy')\n",
    "model.compile(optimizer='adam', metrics=['accuracy'], loss='sparse_categorical_crossentropy')\n",
    "\n",
    "# blobs[['x','y']].values\n",
    "# blobs[['target']].values\n",
    "\n",
    "model.fit(blobs[['x','y']].values, blobs[['target']].values, epochs=5)"
   ]
  },
  {
   "cell_type": "code",
   "execution_count": 159,
   "metadata": {},
   "outputs": [
    {
     "name": "stdout",
     "output_type": "stream",
     "text": [
      "\r",
      "100/1 [========================================================================================================================================================================================================================================================================================================================================================================================================================================================================================================================================================================================================================================================================================================================================================================================================================================================================================================================================================================================================================================================================================================================================================================================================================================================================================================================================================================================================================================================================================================================================================================================================================================================================================================================================================================================================================================================================================================================================================================================================================================================================================================================================================================================================================================================================================================================================================================================================================================================================================================================================================================================================================================================================================================================================================================================================================================================================================================================================================================================================================================================================================================================] - 0s 2ms/sample - loss: 0.3427 - accuracy: 0.7900\n"
     ]
    },
    {
     "data": {
      "text/plain": [
       "[0.41481258511543273, 0.79]"
      ]
     },
     "execution_count": 159,
     "metadata": {},
     "output_type": "execute_result"
    }
   ],
   "source": [
    "model.evaluate(blobs[['x','y']].values, blobs[['target']].values)"
   ]
  },
  {
   "cell_type": "code",
   "execution_count": 160,
   "metadata": {},
   "outputs": [],
   "source": [
    "# when epochs 50\n",
    "# [1.1195412111282348, 0.026666667]\n",
    "\n",
    "# when epochs 5\n",
    "# [-0.7987905240058899, 0.006666667]"
   ]
  },
  {
   "cell_type": "code",
   "execution_count": 161,
   "metadata": {},
   "outputs": [],
   "source": [
    "import numpy as np"
   ]
  },
  {
   "cell_type": "code",
   "execution_count": 162,
   "metadata": {},
   "outputs": [],
   "source": [
    "x = np.array([[8,2]], dtype='float32')"
   ]
  },
  {
   "cell_type": "code",
   "execution_count": 163,
   "metadata": {},
   "outputs": [
    {
     "data": {
      "text/plain": [
       "array([[0.15763442, 0.84236556]], dtype=float32)"
      ]
     },
     "execution_count": 163,
     "metadata": {},
     "output_type": "execute_result"
    }
   ],
   "source": [
    "model.predict(x)"
   ]
  },
  {
   "cell_type": "code",
   "execution_count": null,
   "metadata": {},
   "outputs": [],
   "source": []
  }
 ],
 "metadata": {
  "kernelspec": {
   "display_name": "Python 3",
   "language": "python",
   "name": "python3"
  },
  "language_info": {
   "codemirror_mode": {
    "name": "ipython",
    "version": 3
   },
   "file_extension": ".py",
   "mimetype": "text/x-python",
   "name": "python",
   "nbconvert_exporter": "python",
   "pygments_lexer": "ipython3",
   "version": "3.7.4"
  }
 },
 "nbformat": 4,
 "nbformat_minor": 2
}
