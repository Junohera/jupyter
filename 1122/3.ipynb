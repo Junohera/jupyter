{
 "cells": [
  {
   "cell_type": "code",
   "execution_count": 57,
   "metadata": {},
   "outputs": [],
   "source": [
    "import numpy as np\n",
    "import matplotlib.pyplot as plt\n",
    "import pandas as pd\n",
    "import seaborn as sns"
   ]
  },
  {
   "cell_type": "code",
   "execution_count": null,
   "metadata": {},
   "outputs": [
    {
     "data": {
      "text/plain": [
       "(array([1., 0., 0., 0., 0., 1., 0., 0., 0., 1.]),\n",
       " array([ 9. ,  9.2,  9.4,  9.6,  9.8, 10. , 10.2, 10.4, 10.6, 10.8, 11. ]),\n",
       " <a list of 10 Patch objects>)"
      ]
     },
     "execution_count": 66,
     "metadata": {},
     "output_type": "execute_result"
    }
   ],
   "source": [
    "# 그래프 영역잡기\n",
    "\n",
    "# left, bottom, width, height\n",
    "master = [5,5,5,5]\n",
    "child0 = [master[0],master[1],master[2]*0.5,master[3]*0.5]\n",
    "child1 = [master[0],master[1]*1.5,master[2]*0.5,master[3]*0.5]\n",
    "child2 = [master[0]*1.5,master[1]*1.5,master[2]*0.5,master[3]*0.5]\n",
    "child3 = [master[0]*1.5,master[1],master[2]*0.5,master[3]*0.5]\n",
    "\n",
    "\n",
    "plt.axes(master)\n",
    "plt.axes(child0)\n",
    "plt.hist([1,2,3])\n",
    "plt.axes(child1)\n",
    "plt.hist([3,4,5])\n",
    "plt.axes(child2)\n",
    "plt.hist([6,7,8])\n",
    "plt.axes(child3)\n",
    "plt.hist([9,10,11])"
   ]
  },
  {
   "cell_type": "code",
   "execution_count": null,
   "metadata": {},
   "outputs": [],
   "source": []
  },
  {
   "cell_type": "code",
   "execution_count": null,
   "metadata": {},
   "outputs": [],
   "source": []
  }
 ],
 "metadata": {
  "kernelspec": {
   "display_name": "Python 3",
   "language": "python",
   "name": "python3"
  },
  "language_info": {
   "codemirror_mode": {
    "name": "ipython",
    "version": 3
   },
   "file_extension": ".py",
   "mimetype": "text/x-python",
   "name": "python",
   "nbconvert_exporter": "python",
   "pygments_lexer": "ipython3",
   "version": "3.7.4"
  }
 },
 "nbformat": 4,
 "nbformat_minor": 2
}
