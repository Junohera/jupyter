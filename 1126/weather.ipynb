{
 "cells": [
  {
   "cell_type": "code",
   "execution_count": 1,
   "metadata": {},
   "outputs": [],
   "source": [
    "\timport folium\n",
    "\timport pandas as pd\n",
    "\timport numpy as np\n",
    "\timport matplotlib.pyplot as plt\n",
    "\n",
    "\tplt.style.use('ggplot')\n",
    "\tplt.rcParams['font.family'] = 'Noto Sans CJK JP'\n"
   ]
  },
  {
   "cell_type": "code",
   "execution_count": 5,
   "metadata": {},
   "outputs": [],
   "source": [
    "data = pd.read_csv('tidy/weather.txt', sep='\\t')"
   ]
  },
  {
   "cell_type": "code",
   "execution_count": 7,
   "metadata": {},
   "outputs": [
    {
     "data": {
      "text/plain": [
       "Index(['id', 'year', 'month', 'element', 'd1', 'd2', 'd3', 'd4', 'd5', 'd6',\n",
       "       'd7', 'd8', 'd9', 'd10', 'd11', 'd12', 'd13', 'd14', 'd15', 'd16',\n",
       "       'd17', 'd18', 'd19', 'd20', 'd21', 'd22', 'd23', 'd24', 'd25', 'd26',\n",
       "       'd27', 'd28', 'd29', 'd30', 'd31'],\n",
       "      dtype='object')"
      ]
     },
     "execution_count": 7,
     "metadata": {},
     "output_type": "execute_result"
    }
   ],
   "source": [
    "data.columns"
   ]
  },
  {
   "cell_type": "code",
   "execution_count": 11,
   "metadata": {},
   "outputs": [],
   "source": [
    "x = data.melt(data.columns[:4]).dropna() # melt"
   ]
  },
  {
   "cell_type": "code",
   "execution_count": 12,
   "metadata": {},
   "outputs": [
    {
     "data": {
      "text/html": [
       "<div>\n",
       "<style scoped>\n",
       "    .dataframe tbody tr th:only-of-type {\n",
       "        vertical-align: middle;\n",
       "    }\n",
       "\n",
       "    .dataframe tbody tr th {\n",
       "        vertical-align: top;\n",
       "    }\n",
       "\n",
       "    .dataframe thead th {\n",
       "        text-align: right;\n",
       "    }\n",
       "</style>\n",
       "<table border=\"1\" class=\"dataframe\">\n",
       "  <thead>\n",
       "    <tr style=\"text-align: right;\">\n",
       "      <th></th>\n",
       "      <th>id</th>\n",
       "      <th>year</th>\n",
       "      <th>month</th>\n",
       "      <th>element</th>\n",
       "      <th>variable</th>\n",
       "      <th>value</th>\n",
       "    </tr>\n",
       "  </thead>\n",
       "  <tbody>\n",
       "    <tr>\n",
       "      <td>20</td>\n",
       "      <td>MX000017004</td>\n",
       "      <td>2010</td>\n",
       "      <td>12</td>\n",
       "      <td>TMAX</td>\n",
       "      <td>d1</td>\n",
       "      <td>299.0</td>\n",
       "    </tr>\n",
       "    <tr>\n",
       "      <td>21</td>\n",
       "      <td>MX000017004</td>\n",
       "      <td>2010</td>\n",
       "      <td>12</td>\n",
       "      <td>TMIN</td>\n",
       "      <td>d1</td>\n",
       "      <td>138.0</td>\n",
       "    </tr>\n",
       "    <tr>\n",
       "      <td>24</td>\n",
       "      <td>MX000017004</td>\n",
       "      <td>2010</td>\n",
       "      <td>2</td>\n",
       "      <td>TMAX</td>\n",
       "      <td>d2</td>\n",
       "      <td>273.0</td>\n",
       "    </tr>\n",
       "    <tr>\n",
       "      <td>25</td>\n",
       "      <td>MX000017004</td>\n",
       "      <td>2010</td>\n",
       "      <td>2</td>\n",
       "      <td>TMIN</td>\n",
       "      <td>d2</td>\n",
       "      <td>144.0</td>\n",
       "    </tr>\n",
       "    <tr>\n",
       "      <td>40</td>\n",
       "      <td>MX000017004</td>\n",
       "      <td>2010</td>\n",
       "      <td>11</td>\n",
       "      <td>TMAX</td>\n",
       "      <td>d2</td>\n",
       "      <td>313.0</td>\n",
       "    </tr>\n",
       "    <tr>\n",
       "      <td>...</td>\n",
       "      <td>...</td>\n",
       "      <td>...</td>\n",
       "      <td>...</td>\n",
       "      <td>...</td>\n",
       "      <td>...</td>\n",
       "      <td>...</td>\n",
       "    </tr>\n",
       "    <tr>\n",
       "      <td>631</td>\n",
       "      <td>MX000017004</td>\n",
       "      <td>2010</td>\n",
       "      <td>8</td>\n",
       "      <td>TMIN</td>\n",
       "      <td>d29</td>\n",
       "      <td>153.0</td>\n",
       "    </tr>\n",
       "    <tr>\n",
       "      <td>638</td>\n",
       "      <td>MX000017004</td>\n",
       "      <td>2010</td>\n",
       "      <td>1</td>\n",
       "      <td>TMAX</td>\n",
       "      <td>d30</td>\n",
       "      <td>278.0</td>\n",
       "    </tr>\n",
       "    <tr>\n",
       "      <td>639</td>\n",
       "      <td>MX000017004</td>\n",
       "      <td>2010</td>\n",
       "      <td>1</td>\n",
       "      <td>TMIN</td>\n",
       "      <td>d30</td>\n",
       "      <td>145.0</td>\n",
       "    </tr>\n",
       "    <tr>\n",
       "      <td>674</td>\n",
       "      <td>MX000017004</td>\n",
       "      <td>2010</td>\n",
       "      <td>8</td>\n",
       "      <td>TMAX</td>\n",
       "      <td>d31</td>\n",
       "      <td>254.0</td>\n",
       "    </tr>\n",
       "    <tr>\n",
       "      <td>675</td>\n",
       "      <td>MX000017004</td>\n",
       "      <td>2010</td>\n",
       "      <td>8</td>\n",
       "      <td>TMIN</td>\n",
       "      <td>d31</td>\n",
       "      <td>154.0</td>\n",
       "    </tr>\n",
       "  </tbody>\n",
       "</table>\n",
       "<p>66 rows × 6 columns</p>\n",
       "</div>"
      ],
      "text/plain": [
       "              id  year  month element variable  value\n",
       "20   MX000017004  2010     12    TMAX       d1  299.0\n",
       "21   MX000017004  2010     12    TMIN       d1  138.0\n",
       "24   MX000017004  2010      2    TMAX       d2  273.0\n",
       "25   MX000017004  2010      2    TMIN       d2  144.0\n",
       "40   MX000017004  2010     11    TMAX       d2  313.0\n",
       "..           ...   ...    ...     ...      ...    ...\n",
       "631  MX000017004  2010      8    TMIN      d29  153.0\n",
       "638  MX000017004  2010      1    TMAX      d30  278.0\n",
       "639  MX000017004  2010      1    TMIN      d30  145.0\n",
       "674  MX000017004  2010      8    TMAX      d31  254.0\n",
       "675  MX000017004  2010      8    TMIN      d31  154.0\n",
       "\n",
       "[66 rows x 6 columns]"
      ]
     },
     "execution_count": 12,
     "metadata": {},
     "output_type": "execute_result"
    }
   ],
   "source": [
    "x"
   ]
  },
  {
   "cell_type": "code",
   "execution_count": null,
   "metadata": {},
   "outputs": [],
   "source": []
  }
 ],
 "metadata": {
  "kernelspec": {
   "display_name": "Python 3",
   "language": "python",
   "name": "python3"
  },
  "language_info": {
   "codemirror_mode": {
    "name": "ipython",
    "version": 3
   },
   "file_extension": ".py",
   "mimetype": "text/x-python",
   "name": "python",
   "nbconvert_exporter": "python",
   "pygments_lexer": "ipython3",
   "version": "3.7.4"
  }
 },
 "nbformat": 4,
 "nbformat_minor": 2
}
