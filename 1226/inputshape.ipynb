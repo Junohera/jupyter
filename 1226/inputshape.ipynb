{
 "cells": [
  {
   "cell_type": "code",
   "execution_count": 65,
   "metadata": {},
   "outputs": [],
   "source": [
    "from tensorflow.keras.datasets import mnist"
   ]
  },
  {
   "cell_type": "code",
   "execution_count": 66,
   "metadata": {},
   "outputs": [],
   "source": [
    "from tensorflow.keras.models import Sequential\n",
    "from tensorflow.keras.layers import SimpleRNN, Dense"
   ]
  },
  {
   "cell_type": "code",
   "execution_count": 67,
   "metadata": {},
   "outputs": [],
   "source": [
    "(X_train, y_train), (X_test, y_test) = mnist.load_data()"
   ]
  },
  {
   "cell_type": "code",
   "execution_count": 71,
   "metadata": {},
   "outputs": [],
   "source": [
    "# inputShape에 맞춰야할 부분\n",
    "X_train = X_train.reshape(60000, -1, 1)/255.\n",
    "X_test = X_test.reshape(10000, -1, 1)/255."
   ]
  },
  {
   "cell_type": "code",
   "execution_count": 72,
   "metadata": {},
   "outputs": [
    {
     "data": {
      "text/plain": [
       "(60000, 784, 1)"
      ]
     },
     "execution_count": 72,
     "metadata": {},
     "output_type": "execute_result"
    }
   ],
   "source": [
    "X_train.shape"
   ]
  },
  {
   "cell_type": "code",
   "execution_count": 73,
   "metadata": {},
   "outputs": [
    {
     "data": {
      "text/plain": [
       "(10000, 784, 1)"
      ]
     },
     "execution_count": 73,
     "metadata": {},
     "output_type": "execute_result"
    }
   ],
   "source": [
    "X_test.shape"
   ]
  },
  {
   "cell_type": "code",
   "execution_count": 74,
   "metadata": {},
   "outputs": [],
   "source": [
    "model = Sequential()\n",
    "# layer1 = SimpleRNN(3, kernel_initializer='ones', use_bias=False, input_shape=(3,2))\n",
    "layer1 = SimpleRNN(10, input_shape=(28*28, 1), activation='relu') # inputShape에 맞춰야할 부분\n",
    "layer2 = Dense(64, activation='relu')\n",
    "layer3 = Dense(10, activation='softmax')\n",
    "\n",
    "model.add(layer1)\n",
    "model.add(layer2)\n",
    "model.add(layer3)"
   ]
  },
  {
   "cell_type": "code",
   "execution_count": 75,
   "metadata": {},
   "outputs": [],
   "source": [
    "model.compile(loss='sparse_categorical_crossentropy', optimizer='adam')"
   ]
  },
  {
   "cell_type": "code",
   "execution_count": 76,
   "metadata": {},
   "outputs": [
    {
     "name": "stdout",
     "output_type": "stream",
     "text": [
      "Train on 60000 samples\n",
      "Epoch 1/10\n",
      "60000/60000 [==============================] - 139s 2ms/sample - loss: 2.3015\n",
      "Epoch 2/10\n",
      "60000/60000 [==============================] - 142s 2ms/sample - loss: 2.3014\n",
      "Epoch 3/10\n",
      "60000/60000 [==============================] - 142s 2ms/sample - loss: 2.3014\n",
      "Epoch 4/10\n",
      "60000/60000 [==============================] - 143s 2ms/sample - loss: 2.3014\n",
      "Epoch 5/10\n",
      "60000/60000 [==============================] - 142s 2ms/sample - loss: 2.3014\n",
      "Epoch 6/10\n",
      "60000/60000 [==============================] - 153s 3ms/sample - loss: 2.3014\n",
      "Epoch 7/10\n",
      "60000/60000 [==============================] - 153s 3ms/sample - loss: 2.3013\n",
      "Epoch 8/10\n",
      "60000/60000 [==============================] - 153s 3ms/sample - loss: 2.3014\n",
      "Epoch 9/10\n",
      "60000/60000 [==============================] - 153s 3ms/sample - loss: 2.3013\n",
      "Epoch 10/10\n",
      "60000/60000 [==============================] - 153s 3ms/sample - loss: 2.3013\n"
     ]
    }
   ],
   "source": [
    "history = model.fit(X_train, y_train, epochs=10)"
   ]
  },
  {
   "cell_type": "code",
   "execution_count": 77,
   "metadata": {},
   "outputs": [],
   "source": [
    "import numpy as np"
   ]
  },
  {
   "cell_type": "code",
   "execution_count": 78,
   "metadata": {},
   "outputs": [],
   "source": [
    "a = np.array([[1, 2], [3, 4], [4, 5]])"
   ]
  },
  {
   "cell_type": "code",
   "execution_count": 7,
   "metadata": {},
   "outputs": [
    {
     "data": {
      "text/plain": [
       "array([[0.9999997, 1.       , 1.       ]], dtype=float32)"
      ]
     },
     "execution_count": 7,
     "metadata": {},
     "output_type": "execute_result"
    }
   ],
   "source": [
    "model.predict(a[np.newaxis])"
   ]
  },
  {
   "cell_type": "code",
   "execution_count": null,
   "metadata": {},
   "outputs": [],
   "source": []
  }
 ],
 "metadata": {
  "kernelspec": {
   "display_name": "Python 3",
   "language": "python",
   "name": "python3"
  },
  "language_info": {
   "codemirror_mode": {
    "name": "ipython",
    "version": 3
   },
   "file_extension": ".py",
   "mimetype": "text/x-python",
   "name": "python",
   "nbconvert_exporter": "python",
   "pygments_lexer": "ipython3",
   "version": "3.7.4"
  }
 },
 "nbformat": 4,
 "nbformat_minor": 2
}
