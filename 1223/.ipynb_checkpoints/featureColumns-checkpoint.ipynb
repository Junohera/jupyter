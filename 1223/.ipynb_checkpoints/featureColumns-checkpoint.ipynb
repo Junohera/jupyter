{
 "cells": [
  {
   "cell_type": "code",
   "execution_count": 1,
   "metadata": {},
   "outputs": [],
   "source": [
    "import numpy as np\n",
    "import pandas as pd\n",
    "\n",
    "import tensorflow as tf\n",
    "\n",
    "from tensorflow import feature_column\n",
    "from tensorflow.keras import layers\n",
    "from sklearn.model_selection import train_test_split"
   ]
  },
  {
   "cell_type": "code",
   "execution_count": 2,
   "metadata": {},
   "outputs": [
    {
     "data": {
      "text/plain": [
       "['__builtins__',\n",
       " '__cached__',\n",
       " '__doc__',\n",
       " '__file__',\n",
       " '__loader__',\n",
       " '__name__',\n",
       " '__package__',\n",
       " '__path__',\n",
       " '__spec__',\n",
       " '_sys',\n",
       " 'bucketized_column',\n",
       " 'categorical_column_with_hash_bucket',\n",
       " 'categorical_column_with_identity',\n",
       " 'categorical_column_with_vocabulary_file',\n",
       " 'categorical_column_with_vocabulary_list',\n",
       " 'crossed_column',\n",
       " 'embedding_column',\n",
       " 'indicator_column',\n",
       " 'make_parse_example_spec',\n",
       " 'numeric_column',\n",
       " 'sequence_categorical_column_with_hash_bucket',\n",
       " 'sequence_categorical_column_with_identity',\n",
       " 'sequence_categorical_column_with_vocabulary_file',\n",
       " 'sequence_categorical_column_with_vocabulary_list',\n",
       " 'sequence_numeric_column',\n",
       " 'shared_embeddings',\n",
       " 'weighted_categorical_column']"
      ]
     },
     "execution_count": 2,
     "metadata": {},
     "output_type": "execute_result"
    }
   ],
   "source": [
    "# dir(feature_column)"
   ]
  },
  {
   "cell_type": "code",
   "execution_count": null,
   "metadata": {},
   "outputs": [],
   "source": []
  }
 ],
 "metadata": {
  "kernelspec": {
   "display_name": "Python 3",
   "language": "python",
   "name": "python3"
  },
  "language_info": {
   "codemirror_mode": {
    "name": "ipython",
    "version": 3
   },
   "file_extension": ".py",
   "mimetype": "text/x-python",
   "name": "python",
   "nbconvert_exporter": "python",
   "pygments_lexer": "ipython3",
   "version": "3.7.4"
  }
 },
 "nbformat": 4,
 "nbformat_minor": 2
}
