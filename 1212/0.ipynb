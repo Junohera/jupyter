{
 "cells": [
  {
   "cell_type": "code",
   "execution_count": 26,
   "metadata": {},
   "outputs": [],
   "source": [
    "from tensorflow.keras.datasets import mnist\n",
    "import pandas as pd\n",
    "import matplotlib.pyplot as plt"
   ]
  },
  {
   "cell_type": "code",
   "execution_count": 27,
   "metadata": {},
   "outputs": [],
   "source": [
    "(X_train, y_train), (X_test, y_test) = mnist.load_data() # holdout"
   ]
  },
  {
   "cell_type": "code",
   "execution_count": 28,
   "metadata": {},
   "outputs": [],
   "source": [
    "# 첫번째 이미지 추출하기\n",
    "# X_train.shape\n",
    "\n",
    "# X_train[0, :, :]\n",
    "# X_train[0,...]\n",
    "# X_train[0]\n"
   ]
  },
  {
   "cell_type": "code",
   "execution_count": 29,
   "metadata": {},
   "outputs": [
    {
     "data": {
      "text/plain": [
       "<matplotlib.image.AxesImage at 0x7f05b68df290>"
      ]
     },
     "execution_count": 29,
     "metadata": {},
     "output_type": "execute_result"
    },
    {
     "data": {
      "image/png": "[encoded data removed]",
      "text/plain": [
       "<Figure size 432x288 with 1 Axes>"
      ]
     },
     "metadata": {
      "needs_background": "light"
     },
     "output_type": "display_data"
    }
   ],
   "source": [
    "plt.imshow(X_train[0], cmap='gray')"
   ]
  },
  {
   "cell_type": "code",
   "execution_count": 30,
   "metadata": {},
   "outputs": [
    {
     "data": {
      "text/plain": [
       "<matplotlib.image.AxesImage at 0x7f05b6400ad0>"
      ]
     },
     "execution_count": 30,
     "metadata": {},
     "output_type": "execute_result"
    },
    {
     "data": {
      "image/png": "[encoded data removed]",
      "text/plain": [
       "<Figure size 432x288 with 1 Axes>"
      ]
     },
     "metadata": {
      "needs_background": "light"
     },
     "output_type": "display_data"
    }
   ],
   "source": [
    "plt.imshow(X_train[0].reshape(-1, 28*28))"
   ]
  },
  {
   "cell_type": "code",
   "execution_count": 31,
   "metadata": {},
   "outputs": [
    {
     "name": "stdout",
     "output_type": "stream",
     "text": [
      "test\n"
     ]
    }
   ],
   "source": [
    "print('test')"
   ]
  },
  {
   "cell_type": "code",
   "execution_count": 32,
   "metadata": {},
   "outputs": [],
   "source": [
    "# 학습시켜보기 \n",
    "\n",
    "from sklearn.neighbors import KNeighborsClassifier\n",
    "knn = KNeighborsClassifier()"
   ]
  },
  {
   "cell_type": "code",
   "execution_count": 33,
   "metadata": {},
   "outputs": [
    {
     "data": {
      "text/plain": [
       "KNeighborsClassifier(algorithm='auto', leaf_size=30, metric='minkowski',\n",
       "                     metric_params=None, n_jobs=None, n_neighbors=5, p=2,\n",
       "                     weights='uniform')"
      ]
     },
     "execution_count": 33,
     "metadata": {},
     "output_type": "execute_result"
    }
   ],
   "source": []
  },
  {
   "cell_type": "code",
   "execution_count": 34,
   "metadata": {},
   "outputs": [
    {
     "data": {
      "text/plain": [
       "array([7], dtype=uint8)"
      ]
     },
     "execution_count": 34,
     "metadata": {},
     "output_type": "execute_result"
    }
   ],
   "source": [
    "xTrain = X_train.reshape(-1, 28*28) # reshape(2d -> 1d)\n",
    "knn.fit(xTrain, y_train)\n",
    "\n",
    "xTest = X_test.reshape(-1, 28*28) # reshape(2d -> 1d)\n",
    "knn.predict([xTest[0]])"
   ]
  },
  {
   "cell_type": "code",
   "execution_count": 35,
   "metadata": {},
   "outputs": [
    {
     "data": {
      "text/plain": [
       "<matplotlib.image.AxesImage at 0x7f05b635cc90>"
      ]
     },
     "execution_count": 35,
     "metadata": {},
     "output_type": "execute_result"
    },
    {
     "data": {
      "image/png": "[encoded data removed]",
      "text/plain": [
       "<Figure size 432x288 with 1 Axes>"
      ]
     },
     "metadata": {
      "needs_background": "light"
     },
     "output_type": "display_data"
    }
   ],
   "source": [
    "plt.imshow(X_test[0])"
   ]
  },
  {
   "cell_type": "code",
   "execution_count": 36,
   "metadata": {},
   "outputs": [
    {
     "ename": "SyntaxError",
     "evalue": "invalid syntax (<ipython-input-36-d3ad8b3f6855>, line 1)",
     "output_type": "error",
     "traceback": [
      "\u001b[0;36m  File \u001b[0;32m\"<ipython-input-36-d3ad8b3f6855>\"\u001b[0;36m, line \u001b[0;32m1\u001b[0m\n\u001b[0;31m    knn.score(xTest.reshape(-1, 28*28*), y_test)\u001b[0m\n\u001b[0m                                      ^\u001b[0m\n\u001b[0;31mSyntaxError\u001b[0m\u001b[0;31m:\u001b[0m invalid syntax\n"
     ]
    }
   ],
   "source": [
    "knn.score(xTest.reshape(-1, 28*28*), y_test)"
   ]
  },
  {
   "cell_type": "code",
   "execution_count": null,
   "metadata": {},
   "outputs": [],
   "source": []
  },
  {
   "cell_type": "code",
   "execution_count": null,
   "metadata": {},
   "outputs": [],
   "source": []
  },
  {
   "cell_type": "code",
   "execution_count": null,
   "metadata": {},
   "outputs": [],
   "source": []
  },
  {
   "cell_type": "code",
   "execution_count": null,
   "metadata": {},
   "outputs": [],
   "source": [
    "# 2 hidden Layer 만들기 => total layer : 3\n",
    "# fully connected - 전부연결"
   ]
  },
  {
   "cell_type": "code",
   "execution_count": 85,
   "metadata": {},
   "outputs": [
    {
     "name": "stdout",
     "output_type": "stream",
     "text": [
      "Train on 60000 samples\n",
      "Epoch 1/50\n",
      "WARNING:tensorflow:From /home/ai39/anaconda3/lib/python3.7/site-packages/tensorflow_core/python/ops/math_grad.py:1394: where (from tensorflow.python.ops.array_ops) is deprecated and will be removed in a future version.\n",
      "Instructions for updating:\n",
      "Use tf.where in 2.0, which has the same broadcast rule as np.where\n",
      "60000/60000 [==============================] - 2s 41us/sample - loss: 2.6532\n",
      "Epoch 2/50\n",
      "60000/60000 [==============================] - 2s 33us/sample - loss: 2.1378\n",
      "Epoch 3/50\n",
      "60000/60000 [==============================] - 2s 34us/sample - loss: 2.1065\n",
      "Epoch 4/50\n",
      "60000/60000 [==============================] - 2s 32us/sample - loss: 2.0453\n",
      "Epoch 5/50\n",
      "60000/60000 [==============================] - 2s 33us/sample - loss: 2.0722\n",
      "Epoch 6/50\n",
      "60000/60000 [==============================] - 2s 33us/sample - loss: 2.0845\n",
      "Epoch 7/50\n",
      "60000/60000 [==============================] - 2s 34us/sample - loss: 2.0076\n",
      "Epoch 8/50\n",
      "60000/60000 [==============================] - 2s 33us/sample - loss: 2.1579\n",
      "Epoch 9/50\n",
      "60000/60000 [==============================] - 2s 33us/sample - loss: 1.9977\n",
      "Epoch 10/50\n",
      "60000/60000 [==============================] - 2s 33us/sample - loss: 1.9859\n",
      "Epoch 11/50\n",
      "60000/60000 [==============================] - 2s 34us/sample - loss: 2.0510\n",
      "Epoch 12/50\n",
      "60000/60000 [==============================] - 2s 34us/sample - loss: 1.9948\n",
      "Epoch 13/50\n",
      "60000/60000 [==============================] - 2s 35us/sample - loss: 2.0147\n",
      "Epoch 14/50\n",
      "60000/60000 [==============================] - 2s 34us/sample - loss: 2.0352\n",
      "Epoch 15/50\n",
      "60000/60000 [==============================] - 2s 33us/sample - loss: 2.0042\n",
      "Epoch 16/50\n",
      "60000/60000 [==============================] - 2s 34us/sample - loss: 1.9921\n",
      "Epoch 17/50\n",
      "60000/60000 [==============================] - 2s 34us/sample - loss: 1.9871\n",
      "Epoch 18/50\n",
      "60000/60000 [==============================] - 2s 34us/sample - loss: 1.9524\n",
      "Epoch 19/50\n",
      "60000/60000 [==============================] - 2s 34us/sample - loss: 1.9542\n",
      "Epoch 20/50\n",
      "60000/60000 [==============================] - 2s 33us/sample - loss: 2.0464\n",
      "Epoch 21/50\n",
      "60000/60000 [==============================] - 2s 33us/sample - loss: 1.9364\n",
      "Epoch 22/50\n",
      "60000/60000 [==============================] - 2s 33us/sample - loss: 1.9560\n",
      "Epoch 23/50\n",
      "60000/60000 [==============================] - 2s 34us/sample - loss: 1.9467\n",
      "Epoch 24/50\n",
      "60000/60000 [==============================] - 2s 35us/sample - loss: 1.9671\n",
      "Epoch 25/50\n",
      "60000/60000 [==============================] - 2s 33us/sample - loss: 1.9364\n",
      "Epoch 26/50\n",
      "60000/60000 [==============================] - 2s 32us/sample - loss: 1.9879\n",
      "Epoch 27/50\n",
      "60000/60000 [==============================] - 2s 35us/sample - loss: 1.9722\n",
      "Epoch 28/50\n",
      "60000/60000 [==============================] - 2s 33us/sample - loss: 1.9782\n",
      "Epoch 29/50\n",
      "60000/60000 [==============================] - 2s 36us/sample - loss: 1.9466\n",
      "Epoch 30/50\n",
      "60000/60000 [==============================] - 2s 37us/sample - loss: 1.9373\n",
      "Epoch 31/50\n",
      "60000/60000 [==============================] - 2s 35us/sample - loss: 1.9383\n",
      "Epoch 32/50\n",
      "60000/60000 [==============================] - 2s 34us/sample - loss: 1.9300\n",
      "Epoch 33/50\n",
      "60000/60000 [==============================] - 2s 33us/sample - loss: 1.9847\n",
      "Epoch 34/50\n",
      "60000/60000 [==============================] - 2s 34us/sample - loss: 1.9753\n",
      "Epoch 35/50\n",
      "60000/60000 [==============================] - 2s 34us/sample - loss: 1.9534\n",
      "Epoch 36/50\n",
      "60000/60000 [==============================] - 2s 36us/sample - loss: 1.9569\n",
      "Epoch 37/50\n",
      "60000/60000 [==============================] - 2s 36us/sample - loss: 2.0027\n",
      "Epoch 38/50\n",
      "60000/60000 [==============================] - 2s 33us/sample - loss: 1.9494\n",
      "Epoch 39/50\n",
      "60000/60000 [==============================] - 2s 34us/sample - loss: 1.9199\n",
      "Epoch 40/50\n",
      "60000/60000 [==============================] - 2s 35us/sample - loss: 1.9297\n",
      "Epoch 41/50\n",
      "60000/60000 [==============================] - 2s 35us/sample - loss: 1.9782\n",
      "Epoch 42/50\n",
      "60000/60000 [==============================] - 2s 33us/sample - loss: 2.0659\n",
      "Epoch 43/50\n",
      "60000/60000 [==============================] - 2s 33us/sample - loss: 1.9272\n",
      "Epoch 44/50\n",
      "60000/60000 [==============================] - 2s 33us/sample - loss: 1.9680\n",
      "Epoch 45/50\n",
      "60000/60000 [==============================] - 2s 33us/sample - loss: 1.9870\n",
      "Epoch 46/50\n",
      "60000/60000 [==============================] - 2s 34us/sample - loss: 2.2413\n",
      "Epoch 47/50\n",
      "60000/60000 [==============================] - 2s 34us/sample - loss: 2.0778\n",
      "Epoch 48/50\n",
      "60000/60000 [==============================] - 2s 33us/sample - loss: 1.9487\n",
      "Epoch 49/50\n",
      "60000/60000 [==============================] - 2s 33us/sample - loss: 1.9833\n",
      "Epoch 50/50\n",
      "60000/60000 [==============================] - 2s 33us/sample - loss: 2.0481\n"
     ]
    },
    {
     "data": {
      "text/plain": [
       "<tensorflow.python.keras.callbacks.History at 0x7f05bdb1f990>"
      ]
     },
     "execution_count": 85,
     "metadata": {},
     "output_type": "execute_result"
    }
   ],
   "source": [
    "from tensorflow.keras.models import Sequential\n",
    "from tensorflow.keras.layers import Dense # layer\n",
    "\n",
    "model = Sequential()\n",
    "\n",
    "layer1 = Dense(100, input_shape = (28*28,), name='11', activation='relu')# 첫번째레이어는 항상 입력값을 세팅해야함.\n",
    "# layer2 = Dense(4, name='12')\n",
    "layer3 = Dense(10, name='13') # output은 10개\n",
    "\n",
    "model.add(layer1)\n",
    "# model.add(layer2)\n",
    "model.add(layer3)\n",
    "\n",
    "# 1  2  3\n",
    "# ㅁ ㅁ ㅁ \n",
    "# ㅁ ㅁ ㅁ\n",
    "# ㅁ ㅁ ㅁ\n",
    "# ㅁ ㅁ\n",
    "\n",
    "# model.summary()\n",
    "\n",
    "model.compile(loss='sparse_categorical_crossentropy') # loss 필수(classification이냐 regression문제냐에 따라 달라짐)\n",
    "# sparse_categorical_crossentropy one hot encoding이 되어있으면\n",
    "# categorical_crossentropy one hot encoding이 안되어있으면 \n",
    "model.fit(xTrain, y_train, epochs=50)\n"
   ]
  },
  {
   "cell_type": "code",
   "execution_count": null,
   "metadata": {},
   "outputs": [],
   "source": []
  },
  {
   "cell_type": "code",
   "execution_count": 62,
   "metadata": {},
   "outputs": [],
   "source": [
    "# iris데이터로 레이어 모델 만들어보기"
   ]
  },
  {
   "cell_type": "code",
   "execution_count": 75,
   "metadata": {},
   "outputs": [
    {
     "name": "stdout",
     "output_type": "stream",
     "text": [
      "Model: \"sequential_13\"\n",
      "_________________________________________________________________\n",
      "Layer (type)                 Output Shape              Param #   \n",
      "=================================================================\n",
      "dense_12 (Dense)             (None, 4)                 20        \n",
      "_________________________________________________________________\n",
      "dense_13 (Dense)             (None, 3)                 15        \n",
      "=================================================================\n",
      "Total params: 35\n",
      "Trainable params: 35\n",
      "Non-trainable params: 0\n",
      "_________________________________________________________________\n"
     ]
    }
   ],
   "source": [
    "model = Sequential()\n",
    "\n",
    "layer1 = Dense(4, input_shape=(4,), activation='relu') # iris의 컬럼개수 4개\n",
    "layer2 = Dense(3) # iris는 결과값이 3개이므로 \n",
    "\n",
    "model.add(layer1)\n",
    "model.add(layer2)\n",
    "\n",
    "model.summary()"
   ]
  },
  {
   "cell_type": "code",
   "execution_count": null,
   "metadata": {},
   "outputs": [],
   "source": []
  },
  {
   "cell_type": "code",
   "execution_count": null,
   "metadata": {},
   "outputs": [],
   "source": []
  },
  {
   "cell_type": "code",
   "execution_count": null,
   "metadata": {},
   "outputs": [],
   "source": [
    "# 기계학습 "
   ]
  },
  {
   "cell_type": "code",
   "execution_count": 76,
   "metadata": {},
   "outputs": [],
   "source": [
    "from sklearn.neural_network import MLPClassifier"
   ]
  },
  {
   "cell_type": "code",
   "execution_count": null,
   "metadata": {},
   "outputs": [],
   "source": [
    "mlp = MLPClassifier((100,), solver=)"
   ]
  }
 ],
 "metadata": {
  "kernelspec": {
   "display_name": "Python 3",
   "language": "python",
   "name": "python3"
  },
  "language_info": {
   "codemirror_mode": {
    "name": "ipython",
    "version": 3
   },
   "file_extension": ".py",
   "mimetype": "text/x-python",
   "name": "python",
   "nbconvert_exporter": "python",
   "pygments_lexer": "ipython3",
   "version": "3.7.4"
  }
 },
 "nbformat": 4,
 "nbformat_minor": 2
}
