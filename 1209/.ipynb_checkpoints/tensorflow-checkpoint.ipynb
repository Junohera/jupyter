{
 "cells": [
  {
   "cell_type": "code",
   "execution_count": null,
   "metadata": {},
   "outputs": [],
   "source": [
    "from sklearn.datasets import load_iris"
   ]
  },
  {
   "cell_type": "code",
   "execution_count": 40,
   "metadata": {},
   "outputs": [],
   "source": [
    "data = load_iris()"
   ]
  },
  {
   "cell_type": "code",
   "execution_count": null,
   "metadata": {},
   "outputs": [],
   "source": []
  },
  {
   "cell_type": "code",
   "execution_count": 1,
   "metadata": {},
   "outputs": [],
   "source": []
  },
  {
   "cell_type": "code",
   "execution_count": 41,
   "metadata": {},
   "outputs": [],
   "source": [
    "from tensorflow.keras.models import Sequential\n",
    "from tensorflow.keras.layers import Dense # 풀링 커넥트? 모두연결?\n",
    "\n",
    "\n",
    "from sklearn.preprocessing import StandardScaler, MinMaxScaler # 전처리 by 기계학습"
   ]
  },
  {
   "cell_type": "code",
   "execution_count": 36,
   "metadata": {},
   "outputs": [],
   "source": [
    "# 전처리 테스트\n",
    "mm = MinMaxScaler()\n",
    "ss = StandardScaler()\n",
    "data_mm = mm.fit_transform(data.data)\n",
    "data_sc = ss.fit_transform(data.data)"
   ]
  },
  {
   "cell_type": "code",
   "execution_count": 43,
   "metadata": {},
   "outputs": [
    {
     "name": "stdout",
     "output_type": "stream",
     "text": [
      "Train on 150 samples\n",
      "Epoch 1/50\n",
      "150/150 [==============================] - 0s 1ms/sample - loss: 1.0372 - accuracy: 0.4867\n",
      "Epoch 2/50\n",
      "150/150 [==============================] - 0s 27us/sample - loss: 1.0047 - accuracy: 0.5267\n",
      "Epoch 3/50\n",
      "150/150 [==============================] - 0s 28us/sample - loss: 0.9727 - accuracy: 0.5733\n",
      "Epoch 4/50\n",
      "150/150 [==============================] - 0s 30us/sample - loss: 0.9420 - accuracy: 0.6200\n",
      "Epoch 5/50\n",
      "150/150 [==============================] - 0s 43us/sample - loss: 0.9128 - accuracy: 0.7067\n",
      "Epoch 6/50\n",
      "150/150 [==============================] - 0s 45us/sample - loss: 0.8842 - accuracy: 0.7267\n",
      "Epoch 7/50\n",
      "150/150 [==============================] - 0s 31us/sample - loss: 0.8563 - accuracy: 0.7600\n",
      "Epoch 8/50\n",
      "150/150 [==============================] - 0s 33us/sample - loss: 0.8304 - accuracy: 0.7667\n",
      "Epoch 9/50\n",
      "150/150 [==============================] - 0s 31us/sample - loss: 0.8051 - accuracy: 0.7800\n",
      "Epoch 10/50\n",
      "150/150 [==============================] - 0s 40us/sample - loss: 0.7821 - accuracy: 0.8133\n",
      "Epoch 11/50\n",
      "150/150 [==============================] - 0s 39us/sample - loss: 0.7586 - accuracy: 0.8333\n",
      "Epoch 12/50\n",
      "150/150 [==============================] - 0s 34us/sample - loss: 0.7363 - accuracy: 0.8400\n",
      "Epoch 13/50\n",
      "150/150 [==============================] - 0s 30us/sample - loss: 0.7155 - accuracy: 0.8467\n",
      "Epoch 14/50\n",
      "150/150 [==============================] - 0s 32us/sample - loss: 0.6960 - accuracy: 0.8467\n",
      "Epoch 15/50\n",
      "150/150 [==============================] - 0s 43us/sample - loss: 0.6767 - accuracy: 0.8467\n",
      "Epoch 16/50\n",
      "150/150 [==============================] - 0s 31us/sample - loss: 0.6586 - accuracy: 0.8467\n",
      "Epoch 17/50\n",
      "150/150 [==============================] - 0s 43us/sample - loss: 0.6411 - accuracy: 0.8400\n",
      "Epoch 18/50\n",
      "150/150 [==============================] - 0s 32us/sample - loss: 0.6247 - accuracy: 0.8400\n",
      "Epoch 19/50\n",
      "150/150 [==============================] - 0s 28us/sample - loss: 0.6082 - accuracy: 0.8400\n",
      "Epoch 20/50\n",
      "150/150 [==============================] - 0s 37us/sample - loss: 0.5934 - accuracy: 0.8400\n",
      "Epoch 21/50\n",
      "150/150 [==============================] - 0s 32us/sample - loss: 0.5787 - accuracy: 0.8400\n",
      "Epoch 22/50\n",
      "150/150 [==============================] - 0s 28us/sample - loss: 0.5647 - accuracy: 0.8467\n",
      "Epoch 23/50\n",
      "150/150 [==============================] - 0s 37us/sample - loss: 0.5519 - accuracy: 0.8467\n",
      "Epoch 24/50\n",
      "150/150 [==============================] - 0s 36us/sample - loss: 0.5394 - accuracy: 0.8467\n",
      "Epoch 25/50\n",
      "150/150 [==============================] - 0s 31us/sample - loss: 0.5274 - accuracy: 0.8467\n",
      "Epoch 26/50\n",
      "150/150 [==============================] - 0s 40us/sample - loss: 0.5158 - accuracy: 0.8533\n",
      "Epoch 27/50\n",
      "150/150 [==============================] - 0s 31us/sample - loss: 0.5051 - accuracy: 0.8533\n",
      "Epoch 28/50\n",
      "150/150 [==============================] - 0s 29us/sample - loss: 0.4946 - accuracy: 0.8533\n",
      "Epoch 29/50\n",
      "150/150 [==============================] - 0s 44us/sample - loss: 0.4851 - accuracy: 0.8533\n",
      "Epoch 30/50\n",
      "150/150 [==============================] - 0s 36us/sample - loss: 0.4755 - accuracy: 0.8533\n",
      "Epoch 31/50\n",
      "150/150 [==============================] - 0s 33us/sample - loss: 0.4665 - accuracy: 0.8533\n",
      "Epoch 32/50\n",
      "150/150 [==============================] - 0s 29us/sample - loss: 0.4580 - accuracy: 0.8600\n",
      "Epoch 33/50\n",
      "150/150 [==============================] - 0s 31us/sample - loss: 0.4500 - accuracy: 0.8667\n",
      "Epoch 34/50\n",
      "150/150 [==============================] - 0s 29us/sample - loss: 0.4422 - accuracy: 0.8600\n",
      "Epoch 35/50\n",
      "150/150 [==============================] - 0s 45us/sample - loss: 0.4350 - accuracy: 0.8600\n",
      "Epoch 36/50\n",
      "150/150 [==============================] - 0s 32us/sample - loss: 0.4276 - accuracy: 0.8600\n",
      "Epoch 37/50\n",
      "150/150 [==============================] - 0s 33us/sample - loss: 0.4211 - accuracy: 0.8600\n",
      "Epoch 38/50\n",
      "150/150 [==============================] - 0s 40us/sample - loss: 0.4145 - accuracy: 0.8600\n",
      "Epoch 39/50\n",
      "150/150 [==============================] - 0s 34us/sample - loss: 0.4087 - accuracy: 0.8600\n",
      "Epoch 40/50\n",
      "150/150 [==============================] - 0s 28us/sample - loss: 0.4026 - accuracy: 0.8600\n",
      "Epoch 41/50\n",
      "150/150 [==============================] - 0s 42us/sample - loss: 0.3968 - accuracy: 0.8600\n",
      "Epoch 42/50\n",
      "150/150 [==============================] - 0s 30us/sample - loss: 0.3914 - accuracy: 0.8600\n",
      "Epoch 43/50\n",
      "150/150 [==============================] - 0s 31us/sample - loss: 0.3862 - accuracy: 0.8600\n",
      "Epoch 44/50\n",
      "150/150 [==============================] - 0s 31us/sample - loss: 0.3812 - accuracy: 0.8600\n",
      "Epoch 45/50\n",
      "150/150 [==============================] - 0s 40us/sample - loss: 0.3766 - accuracy: 0.8600\n",
      "Epoch 46/50\n",
      "150/150 [==============================] - 0s 42us/sample - loss: 0.3718 - accuracy: 0.8600\n",
      "Epoch 47/50\n",
      "150/150 [==============================] - 0s 41us/sample - loss: 0.3674 - accuracy: 0.8600\n",
      "Epoch 48/50\n",
      "150/150 [==============================] - 0s 29us/sample - loss: 0.3630 - accuracy: 0.8600\n",
      "Epoch 49/50\n",
      "150/150 [==============================] - 0s 35us/sample - loss: 0.3588 - accuracy: 0.8600\n",
      "Epoch 50/50\n",
      "150/150 [==============================] - 0s 52us/sample - loss: 0.3548 - accuracy: 0.8600\n"
     ]
    },
    {
     "data": {
      "text/plain": [
       "<tensorflow.python.keras.callbacks.History at 0x7f346a2f0c10>"
      ]
     },
     "execution_count": 43,
     "metadata": {},
     "output_type": "execute_result"
    }
   ],
   "source": [
    "model = Sequential(name='model1')\n",
    "\n",
    "layer1 = Dense(16, input_shape = (4,), activation='relu', name='la') # 첫번째 레이어는 반드시 shape을 지정해야함.\n",
    "model.add(layer1)\n",
    "layer2 = Dense(3, activation='softmax', name='la2') # 아웃풋에서는 activation 달라짐\n",
    "model.add(layer2)\n",
    "\n",
    "# model.summary()\n",
    "\n",
    "model.compile(loss='sparse_categorical_crossentropy', optimizer='adam', metrics=['accuracy'])\n",
    "model.fit(data_sc, data.target, epochs=50)"
   ]
  },
  {
   "cell_type": "code",
   "execution_count": null,
   "metadata": {},
   "outputs": [],
   "source": []
  }
 ],
 "metadata": {
  "kernelspec": {
   "display_name": "Python 3",
   "language": "python",
   "name": "python3"
  },
  "language_info": {
   "codemirror_mode": {
    "name": "ipython",
    "version": 3
   },
   "file_extension": ".py",
   "mimetype": "text/x-python",
   "name": "python",
   "nbconvert_exporter": "python",
   "pygments_lexer": "ipython3",
   "version": "3.7.4"
  }
 },
 "nbformat": 4,
 "nbformat_minor": 2
}
