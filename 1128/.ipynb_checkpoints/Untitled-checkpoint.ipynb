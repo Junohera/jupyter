{
 "cells": [
  {
   "cell_type": "code",
   "execution_count": null,
   "metadata": {},
   "outputs": [],
   "source": [
    "# !!!! 시간별로 그래프 꺾은 선 그리기 "
   ]
  },
  {
   "cell_type": "code",
   "execution_count": 1,
   "metadata": {},
   "outputs": [],
   "source": [
    "import folium\n",
    "import pandas as pd\n",
    "import numpy as np\n",
    "import matplotlib.pyplot as plt\n",
    "\n",
    "plt.style.use('ggplot')\n",
    "plt.rcParams['font.family'] = 'Noto Sans CJK JP'"
   ]
  },
  {
   "cell_type": "code",
   "execution_count": null,
   "metadata": {},
   "outputs": [],
   "source": []
  },
  {
   "cell_type": "code",
   "execution_count": 2,
   "metadata": {},
   "outputs": [],
   "source": [
    "data = pd.read_csv('./weather.csv', encoding='cp949')"
   ]
  },
  {
   "cell_type": "code",
   "execution_count": 9,
   "metadata": {},
   "outputs": [
    {
     "name": "stdout",
     "output_type": "stream",
     "text": [
      "<class 'pandas.core.frame.DataFrame'>\n",
      "RangeIndex: 182 entries, 0 to 181\n",
      "Data columns (total 5 columns):\n",
      "발표시각    182 non-null object\n",
      "예보시각    182 non-null object\n",
      "날씨      182 non-null object\n",
      "최저기온    112 non-null float64\n",
      "최고기온    112 non-null float64\n",
      "dtypes: float64(2), object(3)\n",
      "memory usage: 7.2+ KB\n"
     ]
    }
   ],
   "source": [
    "data.info() # 확인해보니 발표시각이 datetime이 아닌 object이므로 datetime으로 컨버팅하여 set_index"
   ]
  },
  {
   "cell_type": "code",
   "execution_count": 10,
   "metadata": {},
   "outputs": [
    {
     "data": {
      "text/plain": [
       "0      2017-04-27 06:00\n",
       "1      2017-04-27 06:00\n",
       "2      2017-04-27 06:00\n",
       "3      2017-04-27 06:00\n",
       "4      2017-04-27 06:00\n",
       "             ...       \n",
       "177    2017-05-03 18:00\n",
       "178    2017-05-03 18:00\n",
       "179    2017-05-03 18:00\n",
       "180    2017-05-03 18:00\n",
       "181    2017-05-03 18:00\n",
       "Name: 발표시각, Length: 182, dtype: object"
      ]
     },
     "execution_count": 10,
     "metadata": {},
     "output_type": "execute_result"
    }
   ],
   "source": [
    "data['발표시각'].str.upper() # pandas에서 .str을 하면 str에 정의되어있는 함수를 사용할수 있음.\n",
    "# + .dt를 하면 datetime에 정의되어있는 함수를 사용할 수 있음."
   ]
  },
  {
   "cell_type": "code",
   "execution_count": 14,
   "metadata": {},
   "outputs": [],
   "source": [
    "# 타입캐스팅 방법 2가지"
   ]
  },
  {
   "cell_type": "code",
   "execution_count": 15,
   "metadata": {},
   "outputs": [
    {
     "data": {
      "text/plain": [
       "0     2017-04-27 06:00:00\n",
       "1     2017-04-27 06:00:00\n",
       "2     2017-04-27 06:00:00\n",
       "3     2017-04-27 06:00:00\n",
       "4     2017-04-27 06:00:00\n",
       "              ...        \n",
       "177   2017-05-03 18:00:00\n",
       "178   2017-05-03 18:00:00\n",
       "179   2017-05-03 18:00:00\n",
       "180   2017-05-03 18:00:00\n",
       "181   2017-05-03 18:00:00\n",
       "Name: 발표시각, Length: 182, dtype: datetime64[ns]"
      ]
     },
     "execution_count": 15,
     "metadata": {},
     "output_type": "execute_result"
    }
   ],
   "source": [
    "pd.to_datetime(data['발표시각']) # casting  astype(자료형)"
   ]
  },
  {
   "cell_type": "code",
   "execution_count": 16,
   "metadata": {
    "scrolled": true
   },
   "outputs": [
    {
     "data": {
      "text/plain": [
       "0     2017-04-27 06:00:00\n",
       "1     2017-04-27 06:00:00\n",
       "2     2017-04-27 06:00:00\n",
       "3     2017-04-27 06:00:00\n",
       "4     2017-04-27 06:00:00\n",
       "              ...        \n",
       "177   2017-05-03 18:00:00\n",
       "178   2017-05-03 18:00:00\n",
       "179   2017-05-03 18:00:00\n",
       "180   2017-05-03 18:00:00\n",
       "181   2017-05-03 18:00:00\n",
       "Name: 발표시각, Length: 182, dtype: datetime64[ns]"
      ]
     },
     "execution_count": 16,
     "metadata": {},
     "output_type": "execute_result"
    }
   ],
   "source": [
    "data['발표시각'].astype('datetime64') # casting  astype(자료형)"
   ]
  },
  {
   "cell_type": "code",
   "execution_count": 13,
   "metadata": {},
   "outputs": [
    {
     "name": "stdout",
     "output_type": "stream",
     "text": [
      "<class 'pandas.core.frame.DataFrame'>\n",
      "RangeIndex: 182 entries, 0 to 181\n",
      "Data columns (total 5 columns):\n",
      "발표시각    182 non-null object\n",
      "예보시각    182 non-null object\n",
      "날씨      182 non-null object\n",
      "최저기온    112 non-null float64\n",
      "최고기온    112 non-null float64\n",
      "dtypes: float64(2), object(3)\n",
      "memory usage: 7.2+ KB\n"
     ]
    }
   ],
   "source": [
    "data.info()"
   ]
  },
  {
   "cell_type": "code",
   "execution_count": 18,
   "metadata": {},
   "outputs": [
    {
     "data": {
      "text/plain": [
       "0      2017-04-30 오전\n",
       "1      2017-04-30 오후\n",
       "2      2017-05-01 오전\n",
       "3      2017-05-01 오후\n",
       "4      2017-05-02 오전\n",
       "           ...      \n",
       "177    2017-05-10 오전\n",
       "178    2017-05-10 오후\n",
       "179       2017-05-11\n",
       "180       2017-05-12\n",
       "181    2017-05-13 오전\n",
       "Name: 예보시각, Length: 182, dtype: object"
      ]
     },
     "execution_count": 18,
     "metadata": {},
     "output_type": "execute_result"
    }
   ],
   "source": [
    "data['예보시각']"
   ]
  },
  {
   "cell_type": "code",
   "execution_count": 33,
   "metadata": {},
   "outputs": [],
   "source": [
    "t = data['예보시각'].str.split(' ', expand=True).rename({0:'예보', 1: '시각'}, axis=1)"
   ]
  },
  {
   "cell_type": "code",
   "execution_count": 34,
   "metadata": {},
   "outputs": [],
   "source": [
    "new_data = pd.concat([data, t], axis=1).drop('예보시각', axis=1) # 기존 테이블 + 신규 테이블 then drop 예보시각"
   ]
  },
  {
   "cell_type": "code",
   "execution_count": 39,
   "metadata": {},
   "outputs": [
    {
     "name": "stdout",
     "output_type": "stream",
     "text": [
      "<class 'pandas.core.frame.DataFrame'>\n",
      "RangeIndex: 182 entries, 0 to 181\n",
      "Data columns (total 6 columns):\n",
      "발표시각    182 non-null object\n",
      "날씨      182 non-null object\n",
      "최저기온    112 non-null float64\n",
      "최고기온    112 non-null float64\n",
      "예보      182 non-null object\n",
      "시각      141 non-null object\n",
      "dtypes: float64(2), object(4)\n",
      "memory usage: 8.7+ KB\n"
     ]
    }
   ],
   "source": [
    "new_data.info() # 예보가 object이므로 datetime으로 casting"
   ]
  },
  {
   "cell_type": "code",
   "execution_count": 46,
   "metadata": {},
   "outputs": [],
   "source": [
    "new_data['예보'] = new_data['예보'].astype('datetime64')"
   ]
  },
  {
   "cell_type": "code",
   "execution_count": 47,
   "metadata": {},
   "outputs": [],
   "source": [
    "# 4월 27만 추출하기"
   ]
  },
  {
   "cell_type": "code",
   "execution_count": 49,
   "metadata": {},
   "outputs": [
    {
     "data": {
      "text/html": [
       "<div>\n",
       "<style scoped>\n",
       "    .dataframe tbody tr th:only-of-type {\n",
       "        vertical-align: middle;\n",
       "    }\n",
       "\n",
       "    .dataframe tbody tr th {\n",
       "        vertical-align: top;\n",
       "    }\n",
       "\n",
       "    .dataframe thead th {\n",
       "        text-align: right;\n",
       "    }\n",
       "</style>\n",
       "<table border=\"1\" class=\"dataframe\">\n",
       "  <thead>\n",
       "    <tr style=\"text-align: right;\">\n",
       "      <th></th>\n",
       "      <th></th>\n",
       "      <th>날씨</th>\n",
       "      <th>최저기온</th>\n",
       "      <th>최고기온</th>\n",
       "      <th>시각</th>\n",
       "    </tr>\n",
       "    <tr>\n",
       "      <th>발표시각</th>\n",
       "      <th>예보</th>\n",
       "      <th></th>\n",
       "      <th></th>\n",
       "      <th></th>\n",
       "      <th></th>\n",
       "    </tr>\n",
       "  </thead>\n",
       "  <tbody>\n",
       "    <tr>\n",
       "      <td rowspan=\"5\" valign=\"top\">2017-04-27 06:00</td>\n",
       "      <td>2017-04-30</td>\n",
       "      <td>맑음</td>\n",
       "      <td>12.0</td>\n",
       "      <td>NaN</td>\n",
       "      <td>오전</td>\n",
       "    </tr>\n",
       "    <tr>\n",
       "      <td>2017-04-30</td>\n",
       "      <td>구름많음</td>\n",
       "      <td>NaN</td>\n",
       "      <td>25.0</td>\n",
       "      <td>오후</td>\n",
       "    </tr>\n",
       "    <tr>\n",
       "      <td>2017-05-01</td>\n",
       "      <td>맑음</td>\n",
       "      <td>12.0</td>\n",
       "      <td>NaN</td>\n",
       "      <td>오전</td>\n",
       "    </tr>\n",
       "    <tr>\n",
       "      <td>2017-05-01</td>\n",
       "      <td>맑음</td>\n",
       "      <td>NaN</td>\n",
       "      <td>26.0</td>\n",
       "      <td>오후</td>\n",
       "    </tr>\n",
       "    <tr>\n",
       "      <td>2017-05-02</td>\n",
       "      <td>맑음</td>\n",
       "      <td>12.0</td>\n",
       "      <td>NaN</td>\n",
       "      <td>오전</td>\n",
       "    </tr>\n",
       "    <tr>\n",
       "      <td>...</td>\n",
       "      <td>...</td>\n",
       "      <td>...</td>\n",
       "      <td>...</td>\n",
       "      <td>...</td>\n",
       "      <td>...</td>\n",
       "    </tr>\n",
       "    <tr>\n",
       "      <td rowspan=\"5\" valign=\"top\">2017-05-03 18:00</td>\n",
       "      <td>2017-05-10</td>\n",
       "      <td>구름많음</td>\n",
       "      <td>14.0</td>\n",
       "      <td>NaN</td>\n",
       "      <td>오전</td>\n",
       "    </tr>\n",
       "    <tr>\n",
       "      <td>2017-05-10</td>\n",
       "      <td>구름조금</td>\n",
       "      <td>NaN</td>\n",
       "      <td>25.0</td>\n",
       "      <td>오후</td>\n",
       "    </tr>\n",
       "    <tr>\n",
       "      <td>2017-05-11</td>\n",
       "      <td>구름많음</td>\n",
       "      <td>14.0</td>\n",
       "      <td>25.0</td>\n",
       "      <td>None</td>\n",
       "    </tr>\n",
       "    <tr>\n",
       "      <td>2017-05-12</td>\n",
       "      <td>구름조금</td>\n",
       "      <td>14.0</td>\n",
       "      <td>24.0</td>\n",
       "      <td>None</td>\n",
       "    </tr>\n",
       "    <tr>\n",
       "      <td>2017-05-13</td>\n",
       "      <td>구름많음</td>\n",
       "      <td>15.0</td>\n",
       "      <td>25.0</td>\n",
       "      <td>오전</td>\n",
       "    </tr>\n",
       "  </tbody>\n",
       "</table>\n",
       "<p>182 rows × 4 columns</p>\n",
       "</div>"
      ],
      "text/plain": [
       "                               날씨  최저기온  최고기온    시각\n",
       "발표시각             예보                                \n",
       "2017-04-27 06:00 2017-04-30    맑음  12.0   NaN    오전\n",
       "                 2017-04-30  구름많음   NaN  25.0    오후\n",
       "                 2017-05-01    맑음  12.0   NaN    오전\n",
       "                 2017-05-01    맑음   NaN  26.0    오후\n",
       "                 2017-05-02    맑음  12.0   NaN    오전\n",
       "...                           ...   ...   ...   ...\n",
       "2017-05-03 18:00 2017-05-10  구름많음  14.0   NaN    오전\n",
       "                 2017-05-10  구름조금   NaN  25.0    오후\n",
       "                 2017-05-11  구름많음  14.0  25.0  None\n",
       "                 2017-05-12  구름조금  14.0  24.0  None\n",
       "                 2017-05-13  구름많음  15.0  25.0    오전\n",
       "\n",
       "[182 rows x 4 columns]"
      ]
     },
     "execution_count": 49,
     "metadata": {},
     "output_type": "execute_result"
    }
   ],
   "source": [
    "new_data.set_index(['발표시각', '예보']).duplicated() # 인덱스로 변경하면 편하게 조회가능, 다시 컬럼으로 변경(중복제거필요)"
   ]
  },
  {
   "cell_type": "code",
   "execution_count": null,
   "metadata": {},
   "outputs": [],
   "source": []
  }
 ],
 "metadata": {
  "kernelspec": {
   "display_name": "Python 3",
   "language": "python",
   "name": "python3"
  },
  "language_info": {
   "codemirror_mode": {
    "name": "ipython",
    "version": 3
   },
   "file_extension": ".py",
   "mimetype": "text/x-python",
   "name": "python",
   "nbconvert_exporter": "python",
   "pygments_lexer": "ipython3",
   "version": "3.7.4"
  }
 },
 "nbformat": 4,
 "nbformat_minor": 2
}
