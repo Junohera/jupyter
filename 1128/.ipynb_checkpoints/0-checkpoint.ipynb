{
 "cells": [
  {
   "cell_type": "code",
   "execution_count": 19,
   "metadata": {},
   "outputs": [],
   "source": [
    "import folium\n",
    "import pandas as pd\n",
    "import numpy as np\n",
    "import matplotlib.pyplot as plt\n",
    "import datetime\n",
    "\n",
    "plt.style.use('ggplot')\n",
    "plt.rcParams['font.family'] = 'Noto Sans CJK JP'"
   ]
  },
  {
   "cell_type": "code",
   "execution_count": 31,
   "metadata": {},
   "outputs": [],
   "source": [
    "data = pd.read_csv('./과거 동네예보(일간).csv', encoding='cp949')"
   ]
  },
  {
   "cell_type": "code",
   "execution_count": null,
   "metadata": {},
   "outputs": [],
   "source": []
  },
  {
   "cell_type": "code",
   "execution_count": 32,
   "metadata": {},
   "outputs": [
    {
     "data": {
      "text/html": [
       "<div>\n",
       "<style scoped>\n",
       "    .dataframe tbody tr th:only-of-type {\n",
       "        vertical-align: middle;\n",
       "    }\n",
       "\n",
       "    .dataframe tbody tr th {\n",
       "        vertical-align: top;\n",
       "    }\n",
       "\n",
       "    .dataframe thead th {\n",
       "        text-align: right;\n",
       "    }\n",
       "</style>\n",
       "<table border=\"1\" class=\"dataframe\">\n",
       "  <thead>\n",
       "    <tr style=\"text-align: right;\">\n",
       "      <th></th>\n",
       "      <th>day</th>\n",
       "      <th>hour</th>\n",
       "      <th>forecast</th>\n",
       "      <th>value location:60_127 Start : 20180901</th>\n",
       "    </tr>\n",
       "  </thead>\n",
       "  <tbody>\n",
       "    <tr>\n",
       "      <td>0</td>\n",
       "      <td>01</td>\n",
       "      <td>00:30</td>\n",
       "      <td>1.0</td>\n",
       "      <td>25.9</td>\n",
       "    </tr>\n",
       "    <tr>\n",
       "      <td>1</td>\n",
       "      <td>01</td>\n",
       "      <td>00:30</td>\n",
       "      <td>2.0</td>\n",
       "      <td>27.5</td>\n",
       "    </tr>\n",
       "    <tr>\n",
       "      <td>2</td>\n",
       "      <td>01</td>\n",
       "      <td>00:30</td>\n",
       "      <td>3.0</td>\n",
       "      <td>29.0</td>\n",
       "    </tr>\n",
       "    <tr>\n",
       "      <td>3</td>\n",
       "      <td>01</td>\n",
       "      <td>01:30</td>\n",
       "      <td>1.0</td>\n",
       "      <td>27.4</td>\n",
       "    </tr>\n",
       "    <tr>\n",
       "      <td>4</td>\n",
       "      <td>01</td>\n",
       "      <td>01:30</td>\n",
       "      <td>2.0</td>\n",
       "      <td>29.0</td>\n",
       "    </tr>\n",
       "    <tr>\n",
       "      <td>...</td>\n",
       "      <td>...</td>\n",
       "      <td>...</td>\n",
       "      <td>...</td>\n",
       "      <td>...</td>\n",
       "    </tr>\n",
       "    <tr>\n",
       "      <td>2156</td>\n",
       "      <td>30</td>\n",
       "      <td>23:30</td>\n",
       "      <td>1.0</td>\n",
       "      <td>14.0</td>\n",
       "    </tr>\n",
       "    <tr>\n",
       "      <td>2157</td>\n",
       "      <td>30</td>\n",
       "      <td>23:30</td>\n",
       "      <td>2.0</td>\n",
       "      <td>15.0</td>\n",
       "    </tr>\n",
       "    <tr>\n",
       "      <td>2158</td>\n",
       "      <td>30</td>\n",
       "      <td>23:30</td>\n",
       "      <td>3.0</td>\n",
       "      <td>16.0</td>\n",
       "    </tr>\n",
       "    <tr>\n",
       "      <td>2159</td>\n",
       "      <td>30</td>\n",
       "      <td>23:30</td>\n",
       "      <td>4.0</td>\n",
       "      <td>17.0</td>\n",
       "    </tr>\n",
       "    <tr>\n",
       "      <td>2160</td>\n",
       "      <td></td>\n",
       "      <td>NaN</td>\n",
       "      <td>NaN</td>\n",
       "      <td>NaN</td>\n",
       "    </tr>\n",
       "  </tbody>\n",
       "</table>\n",
       "<p>2161 rows × 4 columns</p>\n",
       "</div>"
      ],
      "text/plain": [
       "     day   hour  forecast  value location:60_127 Start : 20180901 \n",
       "0     01  00:30       1.0                                     25.9\n",
       "1     01  00:30       2.0                                     27.5\n",
       "2     01  00:30       3.0                                     29.0\n",
       "3     01  01:30       1.0                                     27.4\n",
       "4     01  01:30       2.0                                     29.0\n",
       "...   ..    ...       ...                                      ...\n",
       "2156  30  23:30       1.0                                     14.0\n",
       "2157  30  23:30       2.0                                     15.0\n",
       "2158  30  23:30       3.0                                     16.0\n",
       "2159  30  23:30       4.0                                     17.0\n",
       "2160        NaN       NaN                                      NaN\n",
       "\n",
       "[2161 rows x 4 columns]"
      ]
     },
     "execution_count": 32,
     "metadata": {},
     "output_type": "execute_result"
    }
   ],
   "source": [
    "data"
   ]
  },
  {
   "cell_type": "code",
   "execution_count": 33,
   "metadata": {},
   "outputs": [
    {
     "data": {
      "text/plain": [
       "Index(['day', 'hour', 'forecast', 'value location:60_127 Start : 20180901 '], dtype='object')"
      ]
     },
     "execution_count": 33,
     "metadata": {},
     "output_type": "execute_result"
    }
   ],
   "source": [
    "data.columns"
   ]
  },
  {
   "cell_type": "code",
   "execution_count": 39,
   "metadata": {},
   "outputs": [
    {
     "data": {
      "text/plain": [
       "Index(['day', 'hour', 'forecast', 'value location:60_127 Start : 20180901 ',\n",
       "       'YM', 'YMDH', 'Date'],\n",
       "      dtype='object')"
      ]
     },
     "execution_count": 39,
     "metadata": {},
     "output_type": "execute_result"
    }
   ],
   "source": [
    "\n",
    "data['YM'] = '2018-09-'\n",
    "data['YMDH'] = data['YM'] + data['day'] + ' ' + data['hour']\n",
    "data['Date'] = pd.to_datetime(data['YMDH'])\n",
    "data.columns"
   ]
  },
  {
   "cell_type": "code",
   "execution_count": null,
   "metadata": {},
   "outputs": [],
   "source": []
  },
  {
   "cell_type": "code",
   "execution_count": 40,
   "metadata": {},
   "outputs": [
    {
     "name": "stderr",
     "output_type": "stream",
     "text": [
      "/home/ai35/anaconda3/lib/python3.7/site-packages/pandas/core/frame.py:4223: SettingWithCopyWarning: \n",
      "A value is trying to be set on a copy of a slice from a DataFrame\n",
      "\n",
      "See the caveats in the documentation: http://pandas.pydata.org/pandas-docs/stable/user_guide/indexing.html#returning-a-view-versus-a-copy\n",
      "  return super().rename(**kwargs)\n"
     ]
    }
   ],
   "source": [
    "new_data = data[['Date', 'forecast', 'value location:60_127 Start : 20180901 ']]\n",
    "new_data.rename({\"value location:60_127 Start : 20180901 \": 'value'}, axis=1,inplace=True)"
   ]
  },
  {
   "cell_type": "code",
   "execution_count": 41,
   "metadata": {},
   "outputs": [],
   "source": [
    "time_data = new_data.set_index('Date')"
   ]
  },
  {
   "cell_type": "code",
   "execution_count": 42,
   "metadata": {},
   "outputs": [
    {
     "data": {
      "text/html": [
       "<div>\n",
       "<style scoped>\n",
       "    .dataframe tbody tr th:only-of-type {\n",
       "        vertical-align: middle;\n",
       "    }\n",
       "\n",
       "    .dataframe tbody tr th {\n",
       "        vertical-align: top;\n",
       "    }\n",
       "\n",
       "    .dataframe thead th {\n",
       "        text-align: right;\n",
       "    }\n",
       "</style>\n",
       "<table border=\"1\" class=\"dataframe\">\n",
       "  <thead>\n",
       "    <tr style=\"text-align: right;\">\n",
       "      <th></th>\n",
       "      <th>forecast</th>\n",
       "      <th>value</th>\n",
       "    </tr>\n",
       "    <tr>\n",
       "      <th>Date</th>\n",
       "      <th></th>\n",
       "      <th></th>\n",
       "    </tr>\n",
       "  </thead>\n",
       "  <tbody>\n",
       "    <tr>\n",
       "      <td>2018-09-01 00:30:00</td>\n",
       "      <td>1.0</td>\n",
       "      <td>25.900000</td>\n",
       "    </tr>\n",
       "    <tr>\n",
       "      <td>2018-09-01 00:30:00</td>\n",
       "      <td>2.0</td>\n",
       "      <td>27.500000</td>\n",
       "    </tr>\n",
       "    <tr>\n",
       "      <td>2018-09-01 00:30:00</td>\n",
       "      <td>3.0</td>\n",
       "      <td>29.000000</td>\n",
       "    </tr>\n",
       "    <tr>\n",
       "      <td>2018-09-01 01:30:00</td>\n",
       "      <td>1.0</td>\n",
       "      <td>27.400000</td>\n",
       "    </tr>\n",
       "    <tr>\n",
       "      <td>2018-09-01 01:30:00</td>\n",
       "      <td>2.0</td>\n",
       "      <td>29.000000</td>\n",
       "    </tr>\n",
       "    <tr>\n",
       "      <td>2018-09-01 02:30:00</td>\n",
       "      <td>1.0</td>\n",
       "      <td>29.000000</td>\n",
       "    </tr>\n",
       "    <tr>\n",
       "      <td>2018-09-01 02:30:00</td>\n",
       "      <td>2.0</td>\n",
       "      <td>29.700001</td>\n",
       "    </tr>\n",
       "    <tr>\n",
       "      <td>2018-09-01 02:30:00</td>\n",
       "      <td>3.0</td>\n",
       "      <td>30.299999</td>\n",
       "    </tr>\n",
       "    <tr>\n",
       "      <td>2018-09-01 02:30:00</td>\n",
       "      <td>4.0</td>\n",
       "      <td>31.000000</td>\n",
       "    </tr>\n",
       "    <tr>\n",
       "      <td>2018-09-01 03:30:00</td>\n",
       "      <td>1.0</td>\n",
       "      <td>29.100000</td>\n",
       "    </tr>\n",
       "    <tr>\n",
       "      <td>2018-09-01 03:30:00</td>\n",
       "      <td>2.0</td>\n",
       "      <td>30.000000</td>\n",
       "    </tr>\n",
       "    <tr>\n",
       "      <td>2018-09-01 03:30:00</td>\n",
       "      <td>3.0</td>\n",
       "      <td>31.000000</td>\n",
       "    </tr>\n",
       "    <tr>\n",
       "      <td>2018-09-01 04:30:00</td>\n",
       "      <td>1.0</td>\n",
       "      <td>30.000000</td>\n",
       "    </tr>\n",
       "    <tr>\n",
       "      <td>2018-09-01 04:30:00</td>\n",
       "      <td>2.0</td>\n",
       "      <td>31.000000</td>\n",
       "    </tr>\n",
       "    <tr>\n",
       "      <td>2018-09-01 05:30:00</td>\n",
       "      <td>1.0</td>\n",
       "      <td>31.000000</td>\n",
       "    </tr>\n",
       "    <tr>\n",
       "      <td>2018-09-01 05:30:00</td>\n",
       "      <td>2.0</td>\n",
       "      <td>30.299999</td>\n",
       "    </tr>\n",
       "    <tr>\n",
       "      <td>2018-09-01 05:30:00</td>\n",
       "      <td>3.0</td>\n",
       "      <td>29.700001</td>\n",
       "    </tr>\n",
       "    <tr>\n",
       "      <td>2018-09-01 05:30:00</td>\n",
       "      <td>4.0</td>\n",
       "      <td>29.000000</td>\n",
       "    </tr>\n",
       "    <tr>\n",
       "      <td>2018-09-01 06:30:00</td>\n",
       "      <td>1.0</td>\n",
       "      <td>29.700001</td>\n",
       "    </tr>\n",
       "    <tr>\n",
       "      <td>2018-09-01 06:30:00</td>\n",
       "      <td>2.0</td>\n",
       "      <td>29.299999</td>\n",
       "    </tr>\n",
       "    <tr>\n",
       "      <td>2018-09-01 06:30:00</td>\n",
       "      <td>3.0</td>\n",
       "      <td>29.000000</td>\n",
       "    </tr>\n",
       "    <tr>\n",
       "      <td>2018-09-01 07:30:00</td>\n",
       "      <td>1.0</td>\n",
       "      <td>29.700001</td>\n",
       "    </tr>\n",
       "    <tr>\n",
       "      <td>2018-09-01 07:30:00</td>\n",
       "      <td>2.0</td>\n",
       "      <td>29.000000</td>\n",
       "    </tr>\n",
       "    <tr>\n",
       "      <td>2018-09-01 08:30:00</td>\n",
       "      <td>1.0</td>\n",
       "      <td>29.000000</td>\n",
       "    </tr>\n",
       "    <tr>\n",
       "      <td>2018-09-01 08:30:00</td>\n",
       "      <td>2.0</td>\n",
       "      <td>27.700001</td>\n",
       "    </tr>\n",
       "    <tr>\n",
       "      <td>2018-09-01 08:30:00</td>\n",
       "      <td>3.0</td>\n",
       "      <td>26.299999</td>\n",
       "    </tr>\n",
       "    <tr>\n",
       "      <td>2018-09-01 08:30:00</td>\n",
       "      <td>4.0</td>\n",
       "      <td>25.000000</td>\n",
       "    </tr>\n",
       "  </tbody>\n",
       "</table>\n",
       "</div>"
      ],
      "text/plain": [
       "                     forecast      value\n",
       "Date                                    \n",
       "2018-09-01 00:30:00       1.0  25.900000\n",
       "2018-09-01 00:30:00       2.0  27.500000\n",
       "2018-09-01 00:30:00       3.0  29.000000\n",
       "2018-09-01 01:30:00       1.0  27.400000\n",
       "2018-09-01 01:30:00       2.0  29.000000\n",
       "2018-09-01 02:30:00       1.0  29.000000\n",
       "2018-09-01 02:30:00       2.0  29.700001\n",
       "2018-09-01 02:30:00       3.0  30.299999\n",
       "2018-09-01 02:30:00       4.0  31.000000\n",
       "2018-09-01 03:30:00       1.0  29.100000\n",
       "2018-09-01 03:30:00       2.0  30.000000\n",
       "2018-09-01 03:30:00       3.0  31.000000\n",
       "2018-09-01 04:30:00       1.0  30.000000\n",
       "2018-09-01 04:30:00       2.0  31.000000\n",
       "2018-09-01 05:30:00       1.0  31.000000\n",
       "2018-09-01 05:30:00       2.0  30.299999\n",
       "2018-09-01 05:30:00       3.0  29.700001\n",
       "2018-09-01 05:30:00       4.0  29.000000\n",
       "2018-09-01 06:30:00       1.0  29.700001\n",
       "2018-09-01 06:30:00       2.0  29.299999\n",
       "2018-09-01 06:30:00       3.0  29.000000\n",
       "2018-09-01 07:30:00       1.0  29.700001\n",
       "2018-09-01 07:30:00       2.0  29.000000\n",
       "2018-09-01 08:30:00       1.0  29.000000\n",
       "2018-09-01 08:30:00       2.0  27.700001\n",
       "2018-09-01 08:30:00       3.0  26.299999\n",
       "2018-09-01 08:30:00       4.0  25.000000"
      ]
     },
     "execution_count": 42,
     "metadata": {},
     "output_type": "execute_result"
    }
   ],
   "source": [
    "time_data['2018-09-01 00:30' :'2018-09-01 08:30']"
   ]
  },
  {
   "cell_type": "code",
   "execution_count": 43,
   "metadata": {},
   "outputs": [
    {
     "data": {
      "text/html": [
       "<div>\n",
       "<style scoped>\n",
       "    .dataframe tbody tr th:only-of-type {\n",
       "        vertical-align: middle;\n",
       "    }\n",
       "\n",
       "    .dataframe tbody tr th {\n",
       "        vertical-align: top;\n",
       "    }\n",
       "\n",
       "    .dataframe thead th {\n",
       "        text-align: right;\n",
       "    }\n",
       "</style>\n",
       "<table border=\"1\" class=\"dataframe\">\n",
       "  <thead>\n",
       "    <tr style=\"text-align: right;\">\n",
       "      <th></th>\n",
       "      <th>forecast</th>\n",
       "      <th>value</th>\n",
       "    </tr>\n",
       "    <tr>\n",
       "      <th>Date</th>\n",
       "      <th></th>\n",
       "      <th></th>\n",
       "    </tr>\n",
       "  </thead>\n",
       "  <tbody>\n",
       "    <tr>\n",
       "      <td>2018-09-01 00:30:00</td>\n",
       "      <td>1.0</td>\n",
       "      <td>25.9</td>\n",
       "    </tr>\n",
       "    <tr>\n",
       "      <td>2018-09-01 00:30:00</td>\n",
       "      <td>2.0</td>\n",
       "      <td>27.5</td>\n",
       "    </tr>\n",
       "    <tr>\n",
       "      <td>2018-09-01 00:30:00</td>\n",
       "      <td>3.0</td>\n",
       "      <td>29.0</td>\n",
       "    </tr>\n",
       "  </tbody>\n",
       "</table>\n",
       "</div>"
      ],
      "text/plain": [
       "                     forecast  value\n",
       "Date                                \n",
       "2018-09-01 00:30:00       1.0   25.9\n",
       "2018-09-01 00:30:00       2.0   27.5\n",
       "2018-09-01 00:30:00       3.0   29.0"
      ]
     },
     "execution_count": 43,
     "metadata": {},
     "output_type": "execute_result"
    }
   ],
   "source": [
    "time_data['2018-09-01 00:30']"
   ]
  },
  {
   "cell_type": "code",
   "execution_count": 47,
   "metadata": {},
   "outputs": [
    {
     "name": "stdout",
     "output_type": "stream",
     "text": [
      "<class 'pandas.core.frame.DataFrame'>\n",
      "Int64Index: 2160 entries, 0 to 2159\n",
      "Data columns (total 7 columns):\n",
      "day                                        2160 non-null object\n",
      "hour                                       2160 non-null object\n",
      "forecast                                   2160 non-null float64\n",
      "value location:60_127 Start : 20180901     2160 non-null float64\n",
      "YM                                         2160 non-null object\n",
      "YMDH                                       2160 non-null object\n",
      "Date                                       2160 non-null datetime64[ns]\n",
      "dtypes: datetime64[ns](1), float64(2), object(4)\n",
      "memory usage: 135.0+ KB\n"
     ]
    }
   ],
   "source": [
    "data.drop(2160, inplace=True)\n",
    "data.info()"
   ]
  },
  {
   "cell_type": "code",
   "execution_count": 48,
   "metadata": {},
   "outputs": [],
   "source": [
    "time_data = new_data.set_index('Date')"
   ]
  },
  {
   "cell_type": "code",
   "execution_count": 49,
   "metadata": {},
   "outputs": [
    {
     "data": {
      "text/plain": [
       "          Date               \n",
       "forecast  2018-09-01 00:30:00     1.0\n",
       "          2018-09-01 00:30:00     2.0\n",
       "          2018-09-01 00:30:00     3.0\n",
       "          2018-09-01 01:30:00     1.0\n",
       "          2018-09-01 01:30:00     2.0\n",
       "                                 ... \n",
       "value     2018-09-30 23:30:00    14.0\n",
       "          2018-09-30 23:30:00    15.0\n",
       "          2018-09-30 23:30:00    16.0\n",
       "          2018-09-30 23:30:00    17.0\n",
       "          NaT                     NaN\n",
       "Length: 4322, dtype: float64"
      ]
     },
     "execution_count": 49,
     "metadata": {},
     "output_type": "execute_result"
    }
   ],
   "source": [
    "time_data.unstack()"
   ]
  },
  {
   "cell_type": "code",
   "execution_count": null,
   "metadata": {},
   "outputs": [],
   "source": [
    "new_data.set_index(['Date', 'forecast']) # 동시에 2개 인덱스"
   ]
  },
  {
   "cell_type": "code",
   "execution_count": null,
   "metadata": {},
   "outputs": [],
   "source": [
    "new_data.set_index(['Date', 'forecast']).unstack().dropna()"
   ]
  },
  {
   "cell_type": "code",
   "execution_count": null,
   "metadata": {},
   "outputs": [],
   "source": [
    "# stack() # 컬럼을 인덱스로 바꿔라"
   ]
  },
  {
   "cell_type": "code",
   "execution_count": null,
   "metadata": {},
   "outputs": [],
   "source": [
    "# unstack() # 인덱스를 컬럼을  바꿔라"
   ]
  },
  {
   "cell_type": "code",
   "execution_count": null,
   "metadata": {},
   "outputs": [],
   "source": []
  },
  {
   "cell_type": "code",
   "execution_count": null,
   "metadata": {},
   "outputs": [],
   "source": []
  }
 ],
 "metadata": {
  "kernelspec": {
   "display_name": "Python 3",
   "language": "python",
   "name": "python3"
  },
  "language_info": {
   "codemirror_mode": {
    "name": "ipython",
    "version": 3
   },
   "file_extension": ".py",
   "mimetype": "text/x-python",
   "name": "python",
   "nbconvert_exporter": "python",
   "pygments_lexer": "ipython3",
   "version": "3.7.4"
  }
 },
 "nbformat": 4,
 "nbformat_minor": 2
}
